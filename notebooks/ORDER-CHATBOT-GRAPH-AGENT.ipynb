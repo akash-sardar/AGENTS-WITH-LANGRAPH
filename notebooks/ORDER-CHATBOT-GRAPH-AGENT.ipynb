{
 "cells": [
  {
   "cell_type": "markdown",
   "id": "7216c6b9",
   "metadata": {},
   "source": [
    "### Setup Models"
   ]
  },
  {
   "cell_type": "code",
   "execution_count": 12,
   "id": "5385c76c",
   "metadata": {},
   "outputs": [],
   "source": [
    "# LLM packages\n",
    "from langchain_openai import ChatOpenAI\n",
    "from langchain_openai import OpenAIEmbeddings\n",
    "\n",
    "# Agentic AI packages\n",
    "from langchain_core.tools import tool\n",
    "from langchain_core.messages import AnyMessage, SystemMessage, HumanMessage, ToolMessage\n",
    "\n",
    "# LangGraph packges\n",
    "from langgraph.graph import StateGraph, END\n",
    "from langgraph.checkpoint.memory import MemorySaver\n",
    "\n",
    "import pandas as pd\n",
    "import os\n",
    "from typing import TypedDict, Annotated\n",
    "import operator\n",
    "from IPython.display import Image\n",
    "import json\n",
    "import uuid\n",
    "from dotenv import load_dotenv\n",
    "OPENAI_API_KEY = os.getenv('OPENAI_API_KEY')\n",
    "\n"
   ]
  },
  {
   "cell_type": "code",
   "execution_count": 2,
   "id": "d9494288",
   "metadata": {},
   "outputs": [],
   "source": [
    "# Start the LLM and embeddings\n",
    "model = ChatOpenAI(\n",
    "    model = \"gpt-4o\",\n",
    "    openai_api_key = OPENAI_API_KEY\n",
    ")\n",
    "\n",
    "embedding = OpenAIEmbeddings(\n",
    "    model = \"text-embedding-3-large\",\n",
    ")"
   ]
  },
  {
   "cell_type": "markdown",
   "id": "2432fabf",
   "metadata": {},
   "source": [
    "### Load laptop product orders into pandas dataframe"
   ]
  },
  {
   "cell_type": "code",
   "execution_count": 3,
   "id": "3707add4",
   "metadata": {},
   "outputs": [
    {
     "data": {
      "text/html": [
       "<div>\n",
       "<style scoped>\n",
       "    .dataframe tbody tr th:only-of-type {\n",
       "        vertical-align: middle;\n",
       "    }\n",
       "\n",
       "    .dataframe tbody tr th {\n",
       "        vertical-align: top;\n",
       "    }\n",
       "\n",
       "    .dataframe thead th {\n",
       "        text-align: right;\n",
       "    }\n",
       "</style>\n",
       "<table border=\"1\" class=\"dataframe\">\n",
       "  <thead>\n",
       "    <tr style=\"text-align: right;\">\n",
       "      <th></th>\n",
       "      <th>Order ID</th>\n",
       "      <th>Product Ordered</th>\n",
       "      <th>Quantity Ordered</th>\n",
       "      <th>Delivery Date</th>\n",
       "    </tr>\n",
       "  </thead>\n",
       "  <tbody>\n",
       "    <tr>\n",
       "      <th>0</th>\n",
       "      <td>ORD-8276</td>\n",
       "      <td>SpectraBook S</td>\n",
       "      <td>3</td>\n",
       "      <td>2024-10-16</td>\n",
       "    </tr>\n",
       "    <tr>\n",
       "      <th>1</th>\n",
       "      <td>ORD-6948</td>\n",
       "      <td>OmegaPro G17</td>\n",
       "      <td>3</td>\n",
       "      <td>2024-10-25</td>\n",
       "    </tr>\n",
       "    <tr>\n",
       "      <th>2</th>\n",
       "      <td>ORD-7311</td>\n",
       "      <td>NanoEdge Flex</td>\n",
       "      <td>2</td>\n",
       "      <td>2024-10-19</td>\n",
       "    </tr>\n",
       "    <tr>\n",
       "      <th>3</th>\n",
       "      <td>ORD-4633</td>\n",
       "      <td>OmegaPro G17</td>\n",
       "      <td>2</td>\n",
       "      <td>2024-10-15</td>\n",
       "    </tr>\n",
       "    <tr>\n",
       "      <th>4</th>\n",
       "      <td>ORD-2050</td>\n",
       "      <td>GammaAir X</td>\n",
       "      <td>2</td>\n",
       "      <td>2024-10-26</td>\n",
       "    </tr>\n",
       "  </tbody>\n",
       "</table>\n",
       "</div>"
      ],
      "text/plain": [
       "   Order ID Product Ordered  Quantity Ordered Delivery Date\n",
       "0  ORD-8276   SpectraBook S                 3    2024-10-16\n",
       "1  ORD-6948    OmegaPro G17                 3    2024-10-25\n",
       "2  ORD-7311   NanoEdge Flex                 2    2024-10-19\n",
       "3  ORD-4633    OmegaPro G17                 2    2024-10-15\n",
       "4  ORD-2050      GammaAir X                 2    2024-10-26"
      ]
     },
     "execution_count": 3,
     "metadata": {},
     "output_type": "execute_result"
    }
   ],
   "source": [
    "product_orders_df = pd.read_csv(\"..//data//Laptop Orders.csv\")\n",
    "product_orders_df.head()"
   ]
  },
  {
   "cell_type": "markdown",
   "id": "c6ca609c",
   "metadata": {},
   "source": [
    "### Create the tools"
   ]
  },
  {
   "cell_type": "markdown",
   "id": "8c17b333",
   "metadata": {},
   "source": [
    "#### Tool: Get order details from order DB"
   ]
  },
  {
   "cell_type": "code",
   "execution_count": 29,
   "id": "3eecce75",
   "metadata": {},
   "outputs": [],
   "source": [
    "@tool\n",
    "def get_order_details(order_id: str) -> str:\n",
    "    \"\"\"\n",
    "    This function returns details about a laptop order, given an order ID.\n",
    "    It performs an exact match between the input order id and available order ids.\n",
    "    If a match is found, it returns a dictionary of products (laptops) ordered, quantity ordered and delivery date.\n",
    "    If there is NO match found, it returns -1\n",
    "    \"\"\"\n",
    "    # filter dataframe for order id\n",
    "    match_order_df = product_orders_df[product_orders_df[\"Order ID\"]== order_id]\n",
    "\n",
    "    # check if a record was found if not return -1\n",
    "    if len(match_order_df) == 0:\n",
    "        return -1\n",
    "    else:\n",
    "        return match_order_df.iloc[0].to_dict()"
   ]
  },
  {
   "cell_type": "markdown",
   "id": "d0319f99",
   "metadata": {},
   "source": [
    "#### Tool: Update quantity in Orders DB"
   ]
  },
  {
   "cell_type": "code",
   "execution_count": 30,
   "id": "b8f63e69",
   "metadata": {},
   "outputs": [],
   "source": [
    "@tool\n",
    "def update_quantity(order_id: str, new_quantity: int) -> bool:\n",
    "    \"\"\"\n",
    "    This function updates the quantity of products (laptops) ordered for a given order id.\n",
    "    If there are no matching orders, it returns False\n",
    "    \"\"\"\n",
    "    # filter dataframe for order id\n",
    "    match_order_df = product_orders_df[product_orders_df[\"Order ID\"]== order_id]\n",
    "\n",
    "    # check if a record was found if not return -1\n",
    "    if len(match_order_df) == 0:\n",
    "        return False\n",
    "    else:\n",
    "        product_orders_df.loc[product_orders_df[\"Order ID\"] == order_id,\"Quantity Ordered\"] = new_quantity\n",
    "        return True\n",
    "            "
   ]
  },
  {
   "cell_type": "markdown",
   "id": "c3df3e2f",
   "metadata": {},
   "source": [
    "### Create the Custom Agent Graphs"
   ]
  },
  {
   "cell_type": "markdown",
   "id": "f2310680",
   "metadata": {},
   "source": [
    "#### Define the State"
   ]
  },
  {
   "cell_type": "markdown",
   "id": "b0c02588",
   "metadata": {},
   "source": [
    "##### An Agent State Class keeps the state of the agent while it answers a query\n",
    "- Annotated: This is used to add metadata as the TYPE HINT\n",
    "- list[AnyMessage]: This indicates that 'messages' is a list of HumanMessage, AIMessage or SystemMessage\n",
    "- operator.add : Specifies that new messages should be added to the end of the list"
   ]
  },
  {
   "cell_type": "code",
   "execution_count": 31,
   "id": "f117b40a",
   "metadata": {},
   "outputs": [],
   "source": [
    "class OrdersAgentState(TypedDict):\n",
    "    messages: Annotated[list[AnyMessage], operator.add]\n"
   ]
  },
  {
   "cell_type": "markdown",
   "id": "a404219d",
   "metadata": {},
   "source": [
    "#### Create the Agent Class\n",
    "##### An Agent class manages all agentic interactions"
   ]
  },
  {
   "cell_type": "code",
   "execution_count": 39,
   "id": "ba7a9f7c",
   "metadata": {},
   "outputs": [],
   "source": [
    "class OrdersAgent:\n",
    "    # Setup the agent graph, tools and memory\n",
    "    def __init__(self, model, tools, system_prompt, debug):\n",
    "        self.system_prompt = system_prompt\n",
    "        self.debug = debug\n",
    "        self.model = model\n",
    "        self.tools = tools\n",
    "        \n",
    "        # Setup the graph (nodes are created manually)\n",
    "        agent_graph = StateGraph(OrdersAgentState)\n",
    "        agent_graph.add_node(\"orders_llm\", self.call_llm)\n",
    "        agent_graph.add_node(\"orders_tools\", self.call_tools)\n",
    "        agent_graph.add_conditional_edges(\n",
    "            \"orders_llm\",\n",
    "            self.is_tool_call,\n",
    "            {True:\"orders_tools\", False: END}\n",
    "        )\n",
    "        agent_graph.add_edge(\"orders_tools\", \"orders_llm\")\n",
    "        # Set where there graph starts\n",
    "        agent_graph.set_entry_point(\"orders_llm\")\n",
    "        # Add chat memory\n",
    "        self.memory = MemorySaver()\n",
    "        # Compile the graph\n",
    "        self.agent_graph = agent_graph.compile(checkpointer=self.memory)\n",
    "        # Setup tools\n",
    "        self.tools = {tool.name: tool for tool in tools}\n",
    "        if self.debug:\n",
    "            print(\"\\nTools loaded:\", self.tools)\n",
    "        \n",
    "        # Attach tools to model\n",
    "        self.model = model.bind_tools(tools)\n",
    "    \n",
    "    # Call_llm: Call the LLM with the messages to get next action/result\n",
    "    def call_llm(self, state: OrdersAgentState):\n",
    "        messages = state[\"messages\"]\n",
    "        # If system prompt exists, add to messages in the front\n",
    "        if self.system_prompt:\n",
    "            messages = [SystemMessage(content = self.system_prompt)] + messages\n",
    "        # Invoke the model with the message history\n",
    "        result = self.model.invoke(messages)\n",
    "        if self.debug:\n",
    "            print(f\"\\nLLM Returned: {result}\")\n",
    "        # Return the LLM Output\n",
    "        return {\"messages\":[result]}\n",
    "    \n",
    "    # is_tool_call: Chec if the next action is a tool call\n",
    "    def is_tool_call(self, state:OrdersAgentState):\n",
    "        last_message = state[\"messages\"][-1]\n",
    "        #print(\"Last Result from LLM:\", last_message)\n",
    "        # If tool action is requested\n",
    "        if len(last_message.tool_calls)>0:\n",
    "            return True\n",
    "        else:\n",
    "            return False\n",
    "    \n",
    "    # call_tools: Execute the tool requested with the given parameters\n",
    "    def call_tools(self, state:OrdersAgentState):\n",
    "        # Get last Message\n",
    "        tool_calls = state[\"messages\"][-1].tool_calls\n",
    "        results = []\n",
    "        # Multiple tool calls may be requested. Serial Execution\n",
    "        for tool in tool_calls:\n",
    "            # Handle Missing tool\n",
    "            if not tool[\"name\"] in self.tools:\n",
    "                print(f\"Missing or Unknown tool name: {tool.name}\")\n",
    "                result = \"Invalid tool found. Please retry\"\n",
    "            else:\n",
    "                # call the tool and collect results\n",
    "                result = self.tools[tool[\"name\"]].invoke(tool[\"args\"])\n",
    "\n",
    "            # append results to the list of tool results\n",
    "            results.append(\n",
    "                ToolMessage(\n",
    "                    tool_call_id = tool[\"id\"],\n",
    "                    name = tool[\"name\"],\n",
    "                    content = str(result)\n",
    "                    )\n",
    "            )\n",
    "\n",
    "            if self.debug:\n",
    "                print(f\"Tools returned {results}\")\n",
    "            # return tool results\n",
    "            return {\"messages\": results}"
   ]
  },
  {
   "cell_type": "markdown",
   "id": "93674a47",
   "metadata": {},
   "source": [
    "#### Instantiate the Agent class"
   ]
  },
  {
   "cell_type": "markdown",
   "id": "21be20a5",
   "metadata": {},
   "source": [
    "##### Create the system prompt"
   ]
  },
  {
   "cell_type": "code",
   "execution_count": 40,
   "id": "3133c6c8",
   "metadata": {},
   "outputs": [],
   "source": [
    "system_prompt = \"\"\"\n",
    "    You are professional chatbot that manages orders for laptops sold by our company.\n",
    "    The tools allow for retrieving order details as well as update order quantity.\n",
    "    Do NOT reveal information about other orders than the one requested.\n",
    "    You will handle small talk and greetings by producing professional responses.\n",
    "    \"\"\""
   ]
  },
  {
   "cell_type": "markdown",
   "id": "d8908872",
   "metadata": {},
   "source": [
    "##### Instantiate the class"
   ]
  },
  {
   "cell_type": "code",
   "execution_count": 41,
   "id": "4f2d2d10",
   "metadata": {},
   "outputs": [],
   "source": [
    "orders_agent = OrdersAgent(\n",
    "    model=model,\n",
    "    tools=[get_order_details, update_quantity],\n",
    "    system_prompt=system_prompt,\n",
    "    debug=False\n",
    ")"
   ]
  },
  {
   "cell_type": "markdown",
   "id": "76e43e62",
   "metadata": {},
   "source": [
    "##### Visualize the agent"
   ]
  },
  {
   "cell_type": "code",
   "execution_count": 42,
   "id": "ae2e05f8",
   "metadata": {},
   "outputs": [
    {
     "data": {
      "image/png": "[encoded data removed]",
      "text/plain": [
       "<IPython.core.display.Image object>"
      ]
     },
     "execution_count": 42,
     "metadata": {},
     "output_type": "execute_result"
    }
   ],
   "source": [
    "Image(orders_agent.agent_graph.get_graph().draw_mermaid_png())"
   ]
  },
  {
   "cell_type": "markdown",
   "id": "89e3ca63",
   "metadata": {},
   "source": [
    "### Execute the Agent"
   ]
  },
  {
   "cell_type": "markdown",
   "id": "482a6b54",
   "metadata": {},
   "source": [
    "- Send a sequence of messages to chatbot and get its response\n",
    "- This simulates the conversation between user and agentic chatbot"
   ]
  },
  {
   "cell_type": "code",
   "execution_count": 43,
   "id": "feec5489",
   "metadata": {},
   "outputs": [],
   "source": [
    "user_inputs = [\n",
    "    \"How are you doing?\",\n",
    "    \"Please show me the details of the order ORD-7311\",\n",
    "    \"Can you add one more of that laptop to the order? \",\n",
    "    \"Can you show me the details again ? \",\n",
    "    \"What about order ORD-9999 ?\",\n",
    "    \"Bye\"\n",
    "]"
   ]
  },
  {
   "cell_type": "markdown",
   "id": "98851470",
   "metadata": {},
   "source": [
    "#### Create a new Thread"
   ]
  },
  {
   "cell_type": "code",
   "execution_count": 44,
   "id": "497d13e1",
   "metadata": {},
   "outputs": [],
   "source": [
    "#Create a new thread\n",
    "config = {\"configurable\": {\"thread_id\": str(uuid.uuid4())}}"
   ]
  },
  {
   "cell_type": "code",
   "execution_count": 45,
   "id": "1295dc98",
   "metadata": {},
   "outputs": [
    {
     "name": "stdout",
     "output_type": "stream",
     "text": [
      "----------------------------------------\n",
      "USER : How are you doing?\n",
      "\n",
      "AGENT : I'm here and ready to assist you with your laptop order inquiries. How can I help you today?\n",
      "----------------------------------------\n",
      "USER : Please show me the details of the order ORD-7311\n",
      "\n",
      "AGENT : Here are the details for order **ORD-7311**:\n",
      "\n",
      "- **Product Ordered:** NanoEdge Flex\n",
      "- **Quantity Ordered:** 2\n",
      "- **Delivery Date:** 2024-10-19\n",
      "\n",
      "If you need any further assistance, feel free to ask!\n",
      "----------------------------------------\n",
      "USER : Can you add one more of that laptop to the order? \n",
      "\n",
      "AGENT : The quantity for order **ORD-7311** has been successfully updated to 3 units of the NanoEdge Flex laptop. If there's anything else you need, just let me know!\n",
      "----------------------------------------\n",
      "USER : Can you show me the details again ? \n",
      "\n",
      "AGENT : Here are the updated details for order **ORD-7311**:\n",
      "\n",
      "- **Product Ordered:** NanoEdge Flex\n",
      "- **Quantity Ordered:** 3\n",
      "- **Delivery Date:** 2024-10-19\n",
      "\n",
      "If you have any more questions or need further assistance, feel free to ask!\n",
      "----------------------------------------\n",
      "USER : What about order ORD-9999 ?\n",
      "\n",
      "AGENT : It seems there is no order with the ID **ORD-9999** in our records. Please double-check the order ID and let me know if there's anything else I can assist you with.\n",
      "----------------------------------------\n",
      "USER : Bye\n",
      "\n",
      "AGENT : Thank you for reaching out. If you have any more questions in the future, feel free to contact us. Have a great day! Goodbye!\n"
     ]
    }
   ],
   "source": [
    "for input in user_inputs:\n",
    "    print(f\"----------------------------------------\\nUSER : {input}\")\n",
    "    #Format the user message\n",
    "    user_message = {\"messages\":[HumanMessage(input)]}\n",
    "    #Get response from the agent\n",
    "    ai_response = orders_agent.agent_graph.invoke(user_message,config=config)\n",
    "    #Print the response\n",
    "    print(f\"\\nAGENT : {ai_response['messages'][-1].content}\")"
   ]
  }
 ],
 "metadata": {
  "kernelspec": {
   "display_name": ".venv",
   "language": "python",
   "name": "python3"
  },
  "language_info": {
   "codemirror_mode": {
    "name": "ipython",
    "version": 3
   },
   "file_extension": ".py",
   "mimetype": "text/x-python",
   "name": "python",
   "nbconvert_exporter": "python",
   "pygments_lexer": "ipython3",
   "version": "3.11.13"
  }
 },
 "nbformat": 4,
 "nbformat_minor": 5
}
