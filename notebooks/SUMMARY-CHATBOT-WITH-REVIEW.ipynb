{
 "cells": [
  {
   "cell_type": "markdown",
   "id": "7e31ab4d",
   "metadata": {},
   "source": [
    "### Setup Models"
   ]
  },
  {
   "cell_type": "code",
   "execution_count": 9,
   "id": "50914aa7",
   "metadata": {},
   "outputs": [],
   "source": [
    "# LLM packages\n",
    "from langchain_openai import ChatOpenAI\n",
    "from langchain_openai import OpenAIEmbeddings\n",
    "\n",
    "# Agentic AI packages\n",
    "from langchain_core.tools import tool\n",
    "from langchain_core.messages import AnyMessage, SystemMessage, HumanMessage, ToolMessage\n",
    "from langchain.document_loaders import PyPDFLoader\n",
    "\n",
    "# LangGraph packges\n",
    "from langgraph.graph import StateGraph, END\n",
    "from langgraph.checkpoint.memory import MemorySaver\n",
    "\n",
    "import pandas as pd\n",
    "import os\n",
    "from typing import TypedDict, Annotated\n",
    "import operator\n",
    "from IPython.display import Image\n",
    "import json\n",
    "import uuid\n",
    "from dotenv import load_dotenv\n",
    "OPENAI_API_KEY = os.getenv('OPENAI_API_KEY')\n",
    "\n"
   ]
  },
  {
   "cell_type": "code",
   "execution_count": 2,
   "id": "ec660d55",
   "metadata": {},
   "outputs": [],
   "source": [
    "# Start the LLM and embeddings\n",
    "model = ChatOpenAI(\n",
    "    model = \"gpt-4o\",\n",
    "    openai_api_key = OPENAI_API_KEY\n",
    ")\n",
    "\n",
    "embedding = OpenAIEmbeddings(\n",
    "    model = \"text-embedding-3-large\",\n",
    ")"
   ]
  },
  {
   "cell_type": "markdown",
   "id": "310cebbb",
   "metadata": {},
   "source": [
    "### Engineered Prompts"
   ]
  },
  {
   "cell_type": "code",
   "execution_count": 3,
   "id": "0e583840",
   "metadata": {},
   "outputs": [],
   "source": [
    "summarizer_prompt=\"\"\"\n",
    "You are an document summarizer who can summarize a document provide to you.\n",
    "For the input provided, create a summary with less than 50 words.\n",
    "If the user has provides critique, responsed with a revised version of your previous attempts\n",
    "\"\"\"\n",
    "\n",
    "reviewer_prompt=\"\"\"\n",
    "You are a reviewer grading summaries for an article. \n",
    "Compare the user input document and generated summary.\n",
    "Check if the summary accurately reflects the contents of the document.\n",
    "Provide recommendations for improvement in less than 50 words.\n",
    "\"\"\""
   ]
  },
  {
   "cell_type": "markdown",
   "id": "650ba526",
   "metadata": {},
   "source": [
    "### Setup the summary-with-review agent"
   ]
  },
  {
   "cell_type": "markdown",
   "id": "0f5e13d3",
   "metadata": {},
   "source": [
    "#### Define the Agent State"
   ]
  },
  {
   "cell_type": "code",
   "execution_count": 5,
   "id": "7595b83c",
   "metadata": {},
   "outputs": [],
   "source": [
    "class SummaryAgentState(TypedDict):\n",
    "    messages: Annotated[list[AnyMessage], operator.add]"
   ]
  },
  {
   "cell_type": "markdown",
   "id": "d6b01b8c",
   "metadata": {},
   "source": [
    "#### Define the Reflection Agent"
   ]
  },
  {
   "cell_type": "code",
   "execution_count": 6,
   "id": "10fb6be3",
   "metadata": {},
   "outputs": [],
   "source": [
    "class SummaryAgent:\n",
    "    def __init__(self, model, summarizer_prompt, reviewer_prompt, debug = False):\n",
    "        # get all the parms\n",
    "        self.model = model\n",
    "        self.summarizer_prompt = summarizer_prompt\n",
    "        self.reviewer_prompt = reviewer_prompt\n",
    "        self.debug = debug\n",
    "\n",
    "        # Build the nodes of the graph\n",
    "        summary_agent_graph = StateGraph(SummaryAgentState)\n",
    "        summary_agent_graph.add_node(\"summarizer\", self.generate_summary)\n",
    "        summary_agent_graph.add_node(\"reviewer\", self.review_summary)\n",
    "        # Build edges of the graph\n",
    "        summary_agent_graph.add_conditional_edges(\n",
    "            \"summarizer\",\n",
    "            self.should_continue,\n",
    "            {True:\"reviewer\", False: END}\n",
    "        )\n",
    "        summary_agent_graph.add_edge(\"reviewer\",\"summarizer\")\n",
    "        # Set Graph entry point\n",
    "        summary_agent_graph.set_entry_point(\"summarizer\")\n",
    "        # Add chat memory\n",
    "        self.memory = MemorySaver()\n",
    "        # Compile the graph\n",
    "        self.summary_agent_graph = summary_agent_graph.compile(checkpointer=self.memory)\n",
    "\n",
    "    # LLM Node for Summarizer\n",
    "    def generate_summary(self, state: SummaryAgentState)-> dict:\n",
    "        messages = state[\"messages\"]\n",
    "\n",
    "        # Prepend summarizer system prompt to messages\n",
    "        messages = [SystemMessage(content=self.summarizer_prompt)] + messages\n",
    "\n",
    "        # Invoke the summarizer with the message history\n",
    "        result = self.model.invoke(messages)\n",
    "\n",
    "        if self.debug:\n",
    "            print(f\"=================\\n Summarizer returned output: {result.content}\")\n",
    "        \n",
    "        return {\"messages\":[result]}\n",
    "    \n",
    "\n",
    "    # LLM Node for reviewer\n",
    "    def review_summary(self, state:SummaryAgentState)-> dict:\n",
    "        messages=state[\"messages\"]\n",
    "\n",
    "        # Prepend Reviewer system prompt to messages\n",
    "        messages = [SystemMessage(content=self.reviewer_prompt)] + messages\n",
    "\n",
    "        # Invoke the reviewer with the message history\n",
    "        result = self.model.invoke(messages)\n",
    "\n",
    "        if self.debug:\n",
    "            print(f\"******************\\n Reviewer returned output: {result.content}\")\n",
    "        \n",
    "        return {\"messages\": [result]}\n",
    "    \n",
    "    # Decide if max iterations have been reached or not\n",
    "    def should_continue(self, state: SummaryAgentState):\n",
    "        total_reviews = len(state[\"messages\"]) /2\n",
    "\n",
    "        if self.debug:\n",
    "            print(f\"Iteration Number: {total_reviews}\")\n",
    "        \n",
    "        # Breakout of the iteration loop if 2 iterations are done\n",
    "        if len(state[\"messages\"]) > 4:\n",
    "            return False\n",
    "        else:\n",
    "            return True"
   ]
  },
  {
   "cell_type": "markdown",
   "id": "f70cca22",
   "metadata": {},
   "source": [
    "### Setup the agentic system"
   ]
  },
  {
   "cell_type": "code",
   "execution_count": 7,
   "id": "ed34c1fd",
   "metadata": {},
   "outputs": [],
   "source": [
    "# Setup the summary bot\n",
    "summary_chatbot = SummaryAgent(\n",
    "    model=model,\n",
    "    summarizer_prompt=summarizer_prompt,\n",
    "    reviewer_prompt=reviewer_prompt,\n",
    "    debug=True\n",
    ")"
   ]
  },
  {
   "cell_type": "code",
   "execution_count": 8,
   "id": "0c2d06b4",
   "metadata": {},
   "outputs": [
    {
     "data": {
      "image/png": "[encoded data removed]",
      "text/plain": [
       "<IPython.core.display.Image object>"
      ]
     },
     "execution_count": 8,
     "metadata": {},
     "output_type": "execute_result"
    }
   ],
   "source": [
    "Image(summary_chatbot.summary_agent_graph.get_graph().draw_mermaid_png())"
   ]
  },
  {
   "cell_type": "markdown",
   "id": "df71eb15",
   "metadata": {},
   "source": [
    "#### Load the document"
   ]
  },
  {
   "cell_type": "code",
   "execution_count": 11,
   "id": "b6b2c597",
   "metadata": {},
   "outputs": [],
   "source": [
    "loader = PyPDFLoader(\"..//data//EcoSprint_Specification_Document.pdf\")\n",
    "docs = loader.load()"
   ]
  },
  {
   "cell_type": "markdown",
   "id": "7830981f",
   "metadata": {},
   "source": [
    "### Execute the agent"
   ]
  },
  {
   "cell_type": "code",
   "execution_count": 12,
   "id": "50af27fd",
   "metadata": {},
   "outputs": [
    {
     "name": "stdout",
     "output_type": "stream",
     "text": [
      "=================\n",
      " Summarizer returned output: The EcoSprint is a cutting-edge electric vehicle designed for efficiency and performance, appealing to eco-conscious drivers who value style and experience. It features a modern design, spacious interior, powerful electric motor, impressive range, advanced infotainment and safety systems, and convenient connectivity options.\n",
      "Iteration Number: 1.0\n",
      "******************\n",
      " Reviewer returned output: The summary accurately reflects the document's main points. However, consider mentioning specific design features like color options and interior luxury elements for a more comprehensive overview. Including specific performance metrics such as acceleration and top speed could also enhance the summary's detail.\n",
      "=================\n",
      " Summarizer returned output: The EcoSprint is a groundbreaking electric vehicle combining efficiency, style, and advanced technology. It features a sleek design, luxurious interior, powerful motor, and impressive range. Equipped with state-of-the-art infotainment, safety systems, and connectivity, it offers a superior driving experience for eco-conscious drivers.\n",
      "Iteration Number: 2.0\n",
      "******************\n",
      " Reviewer returned output: The summary accurately captures the document's essence but could benefit from more details. Mention specific design elements, such as color options and interior features, to provide a fuller picture. Including performance statistics like acceleration and top speed would also enhance the summary's informativeness.\n",
      "=================\n",
      " Summarizer returned output: The EcoSprint is a cutting-edge electric vehicle offering a blend of efficiency, style, and technology. It features sleek design options, a luxurious interior, a 200-horsepower motor, and a 250-mile range. Advanced infotainment and safety systems ensure an exceptional driving experience for eco-conscious drivers.\n",
      "Iteration Number: 3.0\n"
     ]
    }
   ],
   "source": [
    "config = {\"configurable\": {\"thread_id\": str(uuid.uuid4())}}\n",
    "source_content=docs[0].page_content.replace(\"\\n\",\" \")\n",
    "\n",
    "messages = [HumanMessage(content=source_content)]\n",
    "result=summary_chatbot.summary_agent_graph.invoke({\"messages\":messages},config)"
   ]
  },
  {
   "cell_type": "markdown",
   "id": "089335a5",
   "metadata": {},
   "source": [
    "#### Execution with Human for feedback in loop"
   ]
  },
  {
   "cell_type": "code",
   "execution_count": 13,
   "id": "646855b4",
   "metadata": {},
   "outputs": [
    {
     "name": "stdout",
     "output_type": "stream",
     "text": [
      "----------------------------------------\n",
      "USER : EcoSprint SpecificationDocument 1.Overview● TheEcoSprint isarevolutionaryelectricvehicle(EV)designedforefficiencyandperformance. Withitssleekdesignandstate-of-the-art technology, theEcoSprintappealstoenvironmentallyconsciousdriverswhodon't want tocompromiseonstyleordrivingexperience. Ideal forcitydrivinganddailycommutes, theEcoSprint offersaperfect blendof comfort, sustainability, andinnovation. 2.DesignSpecifications● ExteriorDesign: TheEcoSprint boastsamodernandaerodynamicsilhouette, featuringsmoothlinesandacompact formfactor. AvailableincolorslikeMidnight Black, OceanBlue, andPearl White, it'sahead-turnerontheroad.● InteriorDesign: Inside, theEcoSprint isarealmof comfort andluxury. It offersaspaciouscabinwithseatingforfive, premiumupholstery, andcustomizableambientlighting. 3.PerformanceSpecifications● EngineandMotor: Poweredbyahigh-efficiencyelectricmotor, theEcoSprint delivers200horsepowerand300Nmof torque, providingasmoothandresponsivedrivingexperience.● BatteryandRange: Equippedwitha50kWhlithium-ionbattery, it offersanimpressiverangeof upto250milesonasinglecharge. Chargingisconvenient withoptionsforhome-chargingsetupsandpublicchargingstations.● AccelerationandTopSpeed: Thevehicleacceleratesfrom0to60mphinjust 7.3secondsandhasatopspeedof 120mph. 4.TechnologyandFeatures● Infotainment System: Astate-of-the-art infotainment systemwitha10-inchtouchscreen,voicecontrol, andsmartphoneintegrationforbothAndroidandiOSdevices.● DriverAssistanceSystems: Includesadvancedfeatureslikeadaptivecruisecontrol,lane-keepingassist, andautomaticemergencybraking.● Connectivity: Remotemonitoringandcontrol viaasmartphoneapp, enablingpre-conditioningof thevehicle, chargingstatuschecks, andmore. 5.SafetyandSecurity● SafetyFeatures: High-ratedsafetyfeaturesincludingmultipleairbags, areinforcedframe, andblind-spot monitoring.● SecurityFeatures: Advancedsecuritysystemswithremotelocking/unlocking, GPStracking, andintrusionalarms.\n",
      "\n",
      "AGENT : The EcoSprint is a cutting-edge electric vehicle designed for eco-conscious drivers prioritizing style and performance. It features a sleek aerodynamic design, spacious high-end interior, and a powerful 200hp motor with a 50kWh battery offering a 250-mile range. It accelerates from 0 to 60mph in 7.3 seconds and reaches 120mph.\n",
      "----------------------------------------\n",
      "USER : Can you rewrite the review by focusing more on the specifications?\n",
      "\n",
      "AGENT : The EcoSprint is an advanced electric vehicle featuring a high-efficiency electric motor delivering 200 horsepower and 300Nm of torque. It includes a 50kWh lithium-ion battery providing up to 250 miles per charge. The vehicle accelerates from 0 to 60mph in 7.3 seconds, with a top speed of 120mph.\n",
      "----------------------------------------\n",
      "USER : Can you remove details about the touchscreen?\n",
      "\n",
      "AGENT : The EcoSprint is an advanced electric vehicle featuring a high-efficiency motor delivering 200 horsepower and 300Nm of torque. It includes a 50kWh lithium-ion battery providing up to 250 miles per charge. The vehicle accelerates from 0 to 60mph in 7.3 seconds, with a top speed of 120mph.\n"
     ]
    }
   ],
   "source": [
    "#Take user feedback on the summary through a chatbot\n",
    "summary_chatbot = SummaryAgent(model, \n",
    "                               summarizer_prompt, \n",
    "                               reviewer_prompt,\n",
    "                               debug=False)\n",
    "\n",
    "\n",
    "user_inputs = [\n",
    "    source_content,\n",
    "    \"Can you rewrite the review by focusing more on the specifications?\",\n",
    "    \"Can you remove details about the touchscreen?\"\n",
    "]\n",
    "\n",
    "#Create a new thread\n",
    "config = {\"configurable\": {\"thread_id\": \"thread-summarizer\"}}\n",
    "\n",
    "#Given the number of iterations, this will take a long time.\n",
    "for input in user_inputs:\n",
    "    print(f\"----------------------------------------\\nUSER : {input}\")\n",
    "    #Format the user message\n",
    "    user_message = {\"messages\":[HumanMessage(input)]}\n",
    "    #Get response from the agent\n",
    "    ai_response = summary_chatbot.summary_agent_graph.invoke(user_message,config=config)\n",
    "    #Print the response\n",
    "    print(f\"\\nAGENT : {ai_response['messages'][-1].content}\")"
   ]
  }
 ],
 "metadata": {
  "kernelspec": {
   "display_name": ".venv",
   "language": "python",
   "name": "python3"
  },
  "language_info": {
   "codemirror_mode": {
    "name": "ipython",
    "version": 3
   },
   "file_extension": ".py",
   "mimetype": "text/x-python",
   "name": "python",
   "nbconvert_exporter": "python",
   "pygments_lexer": "ipython3",
   "version": "3.11.13"
  }
 },
 "nbformat": 4,
 "nbformat_minor": 5
}
