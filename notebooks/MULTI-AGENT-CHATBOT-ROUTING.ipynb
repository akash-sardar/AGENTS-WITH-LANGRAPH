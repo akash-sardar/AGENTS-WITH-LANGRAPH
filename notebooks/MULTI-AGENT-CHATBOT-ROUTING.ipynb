{
 "cells": [
  {
   "cell_type": "markdown",
   "id": "9f7a5551",
   "metadata": {},
   "source": [
    "### Setup Models"
   ]
  },
  {
   "cell_type": "code",
   "execution_count": 4,
   "id": "22d22598",
   "metadata": {},
   "outputs": [],
   "source": [
    "# LLM packages\n",
    "from langchain_openai import ChatOpenAI\n",
    "from langchain_openai import OpenAIEmbeddings\n",
    "\n",
    "# Agentic AI packages\n",
    "from langchain_core.tools import tool\n",
    "from langchain_core.messages import AnyMessage, SystemMessage, HumanMessage, ToolMessage\n",
    "from langchain.document_loaders import PyPDFLoader\n",
    "\n",
    "# LangGraph packges\n",
    "from langgraph.graph import StateGraph, END\n",
    "from langgraph.checkpoint.memory import MemorySaver\n",
    "\n",
    "import pandas as pd\n",
    "import os\n",
    "import functools\n",
    "from typing import TypedDict, Annotated\n",
    "import operator\n",
    "from IPython.display import Image\n",
    "import json\n",
    "import uuid\n",
    "from dotenv import load_dotenv\n",
    "OPENAI_API_KEY = os.getenv('OPENAI_API_KEY')\n",
    "\n"
   ]
  },
  {
   "cell_type": "code",
   "execution_count": 2,
   "id": "91d2250e",
   "metadata": {},
   "outputs": [],
   "source": [
    "# Start the LLM and embeddings\n",
    "model = ChatOpenAI(\n",
    "    model = \"gpt-4o\",\n",
    "    openai_api_key = OPENAI_API_KEY\n",
    ")\n",
    "\n",
    "embedding = OpenAIEmbeddings(\n",
    "    model = \"text-embedding-3-large\",\n",
    ")"
   ]
  },
  {
   "cell_type": "markdown",
   "id": "add6970a",
   "metadata": {},
   "source": [
    "### Use Agents as Graph Nodes"
   ]
  },
  {
   "cell_type": "markdown",
   "id": "a4e0bfe0",
   "metadata": {},
   "source": [
    "#### Reuse the agents created in the previous notebooks by importing their notebooks"
   ]
  },
  {
   "cell_type": "code",
   "execution_count": 3,
   "id": "82ac5638",
   "metadata": {},
   "outputs": [
    {
     "name": "stderr",
     "output_type": "stream",
     "text": [
      "C:\\Users\\akash\\AppData\\Local\\Temp\\ipykernel_22744\\4103377959.py:1: LangChainDeprecationWarning: The method `BaseTool.__call__` was deprecated in langchain-core 0.1.47 and will be removed in 1.0. Use :meth:`~invoke` instead.\n",
      "  print(get_laptop_price(\"omega\"))\n"
     ]
    },
    {
     "name": "stdout",
     "output_type": "stream",
     "text": [
      "2199\n",
      "-1\n"
     ]
    },
    {
     "name": "stderr",
     "output_type": "stream",
     "text": [
      "Failed to send telemetry event ClientStartEvent: capture() takes 1 positional argument but 3 were given\n",
      "Failed to send telemetry event ClientCreateCollectionEvent: capture() takes 1 positional argument but 3 were given\n",
      "Failed to send telemetry event CollectionQueryEvent: capture() takes 1 positional argument but 3 were given\n",
      "Number of requested results 4 is greater than number of elements in index 2, updating n_results = 2\n"
     ]
    },
    {
     "name": "stdout",
     "output_type": "stream",
     "text": [
      "[Document(metadata={'page': 0, 'source': '..//data//Laptop product descriptions.pdf'}, page_content='Fictional Laptop Descriptions\\nAlphaBook Pro\\nThe AlphaBook Pro is a sleek ultrabook with a 12th Gen Intel i7 processor, 16GB of DDR4 RAM,\\nand a fast 1TB SSD. Ideal for professionals on the go, this laptop offers an impressive blend of\\npower and portability.\\nGammaAir X\\nGammaAir X combines an AMD Ryzen 7 processor with 32GB of DDR4 memory and a 512GB\\nNVMe SSD. Its thin and light form factor makes it perfect for users who need high performance in a\\nportable design.\\nSpectraBook S\\nDesigned for power users, SpectraBook S features an Intel Core i9 processor, 64GB RAM, and a\\nmassive 2TB SSD. This workstation-class laptop is perfect for intensive tasks like video editing and\\n3D rendering.\\nOmegaPro G17\\nOmegaPro G17 is a gaming powerhouse with a Ryzen 9 5900HX CPU, 32GB RAM, and a 1TB\\nSSD. Designed for gamers, it features a 17-inch display with a high refresh rate and powerful\\ngraphics card for the best gaming experience.\\nNanoEdge Flex'), Document(metadata={'page': 0, 'source': '..//data//Laptop product descriptions.pdf'}, page_content=\"OmegaPro G17\\nOmegaPro G17 is a gaming powerhouse with a Ryzen 9 5900HX CPU, 32GB RAM, and a 1TB\\nSSD. Designed for gamers, it features a 17-inch display with a high refresh rate and powerful\\ngraphics card for the best gaming experience.\\nNanoEdge Flex\\nNanoEdge Flex is a versatile 2-in-1 laptop with Apple's M1 Pro chip, 16GB of unified memory, and a\\n512GB SSD. It's perfect for creative professionals who need a device that can transform between a\\nlaptop and a tablet.\")]\n",
      "================================\u001b[1m Human Message \u001b[0m=================================\n",
      "\n",
      "What are the features and pricing for GammaAir?\n",
      "==================================\u001b[1m Ai Message \u001b[0m==================================\n",
      "Tool Calls:\n",
      "  Get_Product_Features (call_OPobstrajhzWEIsDWPY9ILQh)\n",
      " Call ID: call_OPobstrajhzWEIsDWPY9ILQh\n",
      "  Args:\n",
      "    query: GammaAir\n",
      "  get_laptop_price (call_gyj6IanhZUfuET2LWNNfpSc2)\n",
      " Call ID: call_gyj6IanhZUfuET2LWNNfpSc2\n",
      "  Args:\n",
      "    laptop_name: GammaAir\n",
      "=================================\u001b[1m Tool Message \u001b[0m=================================\n",
      "Name: get_laptop_price\n",
      "\n",
      "1399\n",
      "==================================\u001b[1m Ai Message \u001b[0m==================================\n",
      "\n",
      "The GammaAir X laptop has the following features:\n",
      "\n",
      "- Processor: AMD Ryzen 7\n",
      "- Memory: 32GB of DDR4 RAM\n",
      "- Storage: 512GB NVMe SSD\n",
      "- Design: Thin and light form factor, ideal for users who need high performance in a portable design.\n",
      "\n",
      "The price for the GammaAir X is $1,399.\n",
      "----------------------------------------\n",
      "USER : Hello\n",
      "AGENT : Hello! How can I assist you with your laptop inquiries today?\n",
      "----------------------------------------\n",
      "USER : I am looking to buy a laptop\n",
      "AGENT : Great! I can help you find the right laptop. Do you have any specific features or specifications in mind, like CPU, memory, storage, or design preferences? Or perhaps you'd like to know some prices? Let me know how I can assist you!\n",
      "----------------------------------------\n",
      "USER : Give me a list of available laptop names\n",
      "AGENT : Here is a list of available laptops:\n",
      "\n",
      "1. **AlphaBook Pro**\n",
      "2. **GammaAir X**\n",
      "3. **SpectraBook S**\n",
      "4. **OmegaPro G17**\n",
      "5. **NanoEdge Flex**\n",
      "\n",
      "If you need more information about any of these laptops or their prices, feel free to ask!\n",
      "----------------------------------------\n",
      "USER : Tell me about the features of  SpectraBook\n",
      "AGENT : The **SpectraBook S** is designed for power users and features:\n",
      "\n",
      "- **Processor**: Intel Core i9\n",
      "- **Memory**: 64GB RAM\n",
      "- **Storage**: 2TB SSD\n",
      "\n",
      "This workstation-class laptop is perfect for intensive tasks like video editing and 3D rendering. If you need more details or have any other questions, feel free to ask!\n",
      "----------------------------------------\n",
      "USER : How much does it cost?\n",
      "AGENT : The **SpectraBook S** is priced at $2,499. If you have any more questions or need further assistance, feel free to let me know!\n",
      "----------------------------------------\n",
      "USER : Give me similar information about OmegaPro\n",
      "AGENT : The **OmegaPro G17** is a gaming powerhouse designed for gamers, featuring:\n",
      "\n",
      "- **Processor**: Ryzen 9 5900HX CPU\n",
      "- **Memory**: 32GB RAM\n",
      "- **Storage**: 1TB SSD\n",
      "- **Display**: 17-inch with a high refresh rate\n",
      "- **Graphics**: Powerful graphics card for an optimal gaming experience\n",
      "\n",
      "The price of the OmegaPro G17 is $2,199. If you have any more questions or need assistance, feel free to ask!\n",
      "----------------------------------------\n",
      "USER : What info do you have on AcmeRight ?\n",
      "AGENT : It seems there is no information available about a laptop named \"AcmeRight\" in our current listings. If you have any other queries or need assistance with a different product, please let me know!\n",
      "----------------------------------------\n",
      "USER : Thanks for the help\n",
      "AGENT : You're welcome! If you have any more questions in the future or need further assistance, feel free to reach out. Have a great day!\n",
      "\n",
      "USER 1: The SpectraBook S is designed for power users and comes with the following features:\n",
      "\n",
      "- **Processor**: Intel Core i9\n",
      "- **Memory**: 64GB RAM\n",
      "- **Storage**: 2TB SSD\n",
      "\n",
      "This workstation-class laptop is ideal for intensive tasks such as video editing and 3D rendering.\n",
      "\n",
      "USER 2: The GammaAir X is equipped with the following features:\n",
      "\n",
      "- **Processor**: AMD Ryzen 7\n",
      "- **Memory**: 32GB of DDR4 RAM\n",
      "- **Storage**: 512GB NVMe SSD\n",
      "- **Design**: Thin and light form factor\n",
      "\n",
      "The GammaAir X is designed for high performance while maintaining portability, making it an excellent choice for users who need both power and mobility.\n",
      "\n",
      "USER 1: The price of the SpectraBook S is $2,499.\n",
      "\n",
      "USER 2: The price of the GammaAir X is $1,399.\n",
      "-----------------------------------\n",
      "----------------------------------------\n",
      "USER : How are you doing?\n",
      "\n",
      "AGENT : I'm here and ready to assist you with your laptop orders. How can I help you today?\n",
      "----------------------------------------\n",
      "USER : Please show me the details of the order ORD-7311\n",
      "\n",
      "AGENT : Here are the details for order ID **ORD-7311**:\n",
      "\n",
      "- **Product Ordered:** NanoEdge Flex\n",
      "- **Quantity Ordered:** 2\n",
      "- **Delivery Date:** 2024-10-19\n",
      "\n",
      "Is there anything else I can assist you with?\n",
      "----------------------------------------\n",
      "USER : Can you add one more of that laptop to the order? \n",
      "\n",
      "AGENT : The quantity for order ID **ORD-7311** has been successfully updated to 3 laptops. If there's anything else you need, feel free to ask!\n",
      "----------------------------------------\n",
      "USER : Can you show me the details again ? \n",
      "\n",
      "AGENT : Here are the updated details for order ID **ORD-7311**:\n",
      "\n",
      "- **Product Ordered:** NanoEdge Flex\n",
      "- **Quantity Ordered:** 3\n",
      "- **Delivery Date:** 2024-10-19\n",
      "\n",
      "If you need further assistance, just let me know!\n",
      "----------------------------------------\n",
      "USER : What about order ORD-9999 ?\n",
      "\n",
      "AGENT : It seems that there is no order with the ID **ORD-9999** in our records. Please double-check the order ID and let me know if there's anything else I can assist you with.\n",
      "----------------------------------------\n",
      "USER : Bye\n",
      "\n",
      "AGENT : Goodbye! If you need any assistance in the future, feel free to reach out. Have a great day!\n"
     ]
    }
   ],
   "source": [
    "# Import QnA Agent\n",
    "%run \"PRODUCT-QnA-AGENTIC-CHATBOT.ipynb\"\n",
    "print(\"-----------------------------------\")\n",
    "\n",
    "# Import orders Agent\n",
    "%run \"ORDER-CHATBOT-GRAPH-AGENT.ipynb\"\n",
    "\n",
    "\n"
   ]
  },
  {
   "cell_type": "markdown",
   "id": "1bec41a3",
   "metadata": {},
   "source": [
    "#### Build Helper Function to invoke an agent"
   ]
  },
  {
   "cell_type": "code",
   "execution_count": 5,
   "id": "da25289a",
   "metadata": {},
   "outputs": [],
   "source": [
    "def agent_node(state, agent, name, config):\n",
    "    \n",
    "    # extract thread-id from request for conversation memory\n",
    "    thread_id = config[\"metadata\"][\"thread_id\"]\n",
    "    # Set up the config for calling the agent\n",
    "    agent_config = {\"configurable\":{\"thread_id\": thread_id}}\n",
    "\n",
    "    # Pass the thread-id to establish memory for chatbot\n",
    "    # Invoke the agenrt with the state\n",
    "    result = agent.invoke(state, agent_config)\n",
    "\n",
    "    # Convert the agent output into a format that is suitable to append to the global state\n",
    "    if isinstance(result, ToolMessage):\n",
    "        pass\n",
    "    else:\n",
    "        final_result = AIMessage(result[\"messages\"][-1].content)\n",
    "    \n",
    "    return {\n",
    "        \"messages\": [final_result]\n",
    "    }\n"
   ]
  },
  {
   "cell_type": "markdown",
   "id": "12614abc",
   "metadata": {},
   "source": [
    "#### Create the product QnA Node"
   ]
  },
  {
   "cell_type": "markdown",
   "id": "a680a657",
   "metadata": {},
   "source": [
    "- Note that since this agent is a create_react_agent only agent node will suffice as input"
   ]
  },
  {
   "cell_type": "code",
   "execution_count": 7,
   "id": "a0185212",
   "metadata": {},
   "outputs": [],
   "source": [
    "product_QnA_node = functools.partial(agent_node,\n",
    "                                     agent = product_QnA_Agent,\n",
    "                                     name = \"Product_QnA_Agent\"\n",
    "                                     )"
   ]
  },
  {
   "cell_type": "markdown",
   "id": "32e9a52d",
   "metadata": {},
   "source": [
    "#### Create the Orders Agent Node"
   ]
  },
  {
   "cell_type": "markdown",
   "id": "f92c69eb",
   "metadata": {},
   "source": [
    "- Since this is a custom agent class, the entire graph needs to be provided as input"
   ]
  },
  {
   "cell_type": "code",
   "execution_count": 8,
   "id": "5283bbf0",
   "metadata": {},
   "outputs": [],
   "source": [
    "orders_node = functools.partial(agent_node,\n",
    "                                agent = orders_agent.agent_graph,\n",
    "                                name = \"Orders_Agent\")"
   ]
  },
  {
   "cell_type": "markdown",
   "id": "c689945d",
   "metadata": {},
   "source": [
    "### Create the Routing Agent and Chatbot"
   ]
  },
  {
   "cell_type": "markdown",
   "id": "9cd228b4",
   "metadata": {},
   "source": [
    "#### Create the Router Agent State"
   ]
  },
  {
   "cell_type": "code",
   "execution_count": 9,
   "id": "309e507f",
   "metadata": {},
   "outputs": [],
   "source": [
    "class RouterAgentState(TypedDict):\n",
    "    messages: Annotated[list[AnyMessage], operator.add]"
   ]
  },
  {
   "cell_type": "markdown",
   "id": "a19d25ac",
   "metadata": {},
   "source": [
    "#### Create the Routing Agent"
   ]
  },
  {
   "cell_type": "markdown",
   "id": "f51a805a",
   "metadata": {},
   "source": [
    "- Router Agent always differs from other types of agents. It does not have iterative loops but passess on the request to the destination nodes"
   ]
  },
  {
   "cell_type": "code",
   "execution_count": 14,
   "id": "ef92f306",
   "metadata": {},
   "outputs": [],
   "source": [
    "class RouterAgent:\n",
    "    def __init__(self, model, system_prompt, smalltalk_prompt, debug = False):\n",
    "        self.system_prompt = system_prompt\n",
    "        self.smalltalk_prompt = smalltalk_prompt\n",
    "        self.model = model\n",
    "        self.debug = debug\n",
    "\n",
    "        # Initiate the Graph\n",
    "        router_graph = StateGraph(RouterAgentState)\n",
    "\n",
    "        # Add all the nodes\n",
    "        router_graph.add_node(\"Router\", self.call_llm)\n",
    "        router_graph.add_node(\"Product_Agent\", product_QnA_node)\n",
    "        router_graph.add_node(\"Orders_Agent\", orders_node)\n",
    "        router_graph.add_node(\"Small_Talk\", self.respond_smalltalk)\n",
    "\n",
    "        # Add the conditional edge\n",
    "        router_graph.add_conditional_edges(\n",
    "            source=\"Router\",\n",
    "            path=self.find_route,\n",
    "            path_map={\n",
    "                \"PRODUCT\": \"Product_Agent\",\n",
    "                \"ORDER\": \"Orders_Agent\",\n",
    "                \"SMALLTALK\": \"Small_Talk\",\n",
    "                \"END\": END\n",
    "            }\n",
    "        )\n",
    "\n",
    "        # Add the node <-> node edges -One way routing from router (no coming back)\n",
    "        router_graph.add_edge(\"Product_Agent\", END)\n",
    "        router_graph.add_edge(\"Orders_Agent\", END)\n",
    "        router_graph.add_edge(\"Small_Talk\", END)\n",
    "\n",
    "        # Set the entry point of the graph\n",
    "        router_graph.set_entry_point(\"Router\")\n",
    "        \n",
    "        # Compile the graph\n",
    "        self.router_graph = router_graph.compile()\n",
    "\n",
    "    \n",
    "    def call_llm(self, state:RouterAgentState):\n",
    "        messages=state[\"messages\"]\n",
    "        if self.debug:\n",
    "            print(f\"Call LLM received {messages}\")\n",
    "            \n",
    "        #If system prompt exists, add to messages in the front\n",
    "        if self.system_prompt:\n",
    "            messages = [SystemMessage(content=self.system_prompt)] + messages\n",
    "\n",
    "        #invoke the model with the message history\n",
    "        result = self.model.invoke(messages)\n",
    "\n",
    "        if self.debug:\n",
    "            print(f\"Call LLM result {result}\")\n",
    "        return { \"messages\":[result] }\n",
    "    \n",
    "    def respond_smalltalk(self, state:RouterAgentState):\n",
    "        messages=state[\"messages\"]\n",
    "        if self.debug:\n",
    "            print(f\"Small talk received: {messages}\")\n",
    "            \n",
    "        #If system prompt exists, add to messages in the front\n",
    "        \n",
    "        messages = [SystemMessage(content=self.smalltalk_prompt)] + messages\n",
    "\n",
    "        #invoke the model with the message history\n",
    "        result = self.model.invoke(messages)\n",
    "\n",
    "        if self.debug:\n",
    "            print(f\"Small talk result {result}\")\n",
    "        return { \"messages\":[result] }\n",
    "    \n",
    "    def find_route(self, state: RouterAgentState):\n",
    "        last_message = state[\"messages\"][-1]\n",
    "\n",
    "        if self.debug:\n",
    "            print(\"Router: Last result from LLM:\", last_message)\n",
    "        \n",
    "        destination = last_message.content\n",
    "\n",
    "        if self.debug:\n",
    "            print(\"Destination Chosen: {destination}\")\n",
    "        \n",
    "        return destination\n",
    "\n",
    "\n",
    "\n",
    "\n",
    "        \n",
    "\n"
   ]
  },
  {
   "cell_type": "markdown",
   "id": "bfad833b",
   "metadata": {},
   "source": [
    "#### Create prompts"
   ]
  },
  {
   "cell_type": "code",
   "execution_count": 15,
   "id": "8100c13d",
   "metadata": {},
   "outputs": [],
   "source": [
    "#Setup the system problem\n",
    "system_prompt = \"\"\" \n",
    "You are a Router, that analyzes the input query and chooses 4 options:\n",
    "SMALLTALK: If the user input is small talk, like greetings and good byes.\n",
    "PRODUCT: If the query is a product question about laptops, like features, specifications and pricing.\n",
    "ORDER: If the query is about orders for laptops, like order status, order details or update order quantity\n",
    "END: Default, when its neither PRODUCT or ORDER.\n",
    "\n",
    "The output should only be just one word out of the possible 4 : SMALLTALK, PRODUCT, ORDER, END.\n",
    "\"\"\"\n",
    "\n",
    "smalltalk_prompt=\"\"\"\n",
    "If the user request is small talk, like greetings and goodbyes, respond professionally.\n",
    "Mention that you will be able to answer questions about laptop product features and provide order status and updates.\n",
    "\"\"\""
   ]
  },
  {
   "cell_type": "markdown",
   "id": "4c5dd615",
   "metadata": {},
   "source": [
    "#### Instantiate the Router Agent"
   ]
  },
  {
   "cell_type": "code",
   "execution_count": 16,
   "id": "912859d2",
   "metadata": {},
   "outputs": [],
   "source": [
    "router_agent = RouterAgent(model, \n",
    "                           system_prompt, \n",
    "                           smalltalk_prompt,\n",
    "                           debug=False)"
   ]
  },
  {
   "cell_type": "code",
   "execution_count": 17,
   "id": "b788b16c",
   "metadata": {},
   "outputs": [
    {
     "data": {
      "image/png": "[encoded data removed]",
      "text/plain": [
       "<IPython.core.display.Image object>"
      ]
     },
     "execution_count": 17,
     "metadata": {},
     "output_type": "execute_result"
    }
   ],
   "source": [
    "Image(router_agent.router_graph.get_graph().draw_mermaid_png())"
   ]
  },
  {
   "cell_type": "markdown",
   "id": "dba871ef",
   "metadata": {},
   "source": [
    "### Execute the Routing Chatbot"
   ]
  },
  {
   "cell_type": "code",
   "execution_count": 18,
   "id": "dff7d315",
   "metadata": {},
   "outputs": [
    {
     "name": "stdout",
     "output_type": "stream",
     "text": [
      "================================ Human Message =================================\n",
      "\n",
      "Tell me about the features of SpectraBook\n",
      "================================== Ai Message ==================================\n",
      "\n",
      "PRODUCT\n",
      "================================== Ai Message ==================================\n",
      "\n",
      "The SpectraBook S is designed for power users and comes with the following features:\n",
      "\n",
      "- **Processor**: Intel Core i9\n",
      "- **Memory**: 64GB RAM\n",
      "- **Storage**: 2TB SSD\n",
      "\n",
      "This workstation-class laptop is ideal for intensive tasks such as video editing and 3D rendering.\n"
     ]
    }
   ],
   "source": [
    "#Execute a single request\n",
    "messages=[HumanMessage(content=\"Tell me about the features of SpectraBook\")]\n",
    "result=router_agent.router_graph.invoke({\"messages\":messages},config)\n",
    "for message in result['messages']:\n",
    "    print(message.pretty_repr())"
   ]
  },
  {
   "cell_type": "code",
   "execution_count": 19,
   "id": "b86d946b",
   "metadata": {},
   "outputs": [
    {
     "name": "stdout",
     "output_type": "stream",
     "text": [
      "================================ Human Message =================================\n",
      "\n",
      "What is the status of order ORD-7311?\n",
      "================================== Ai Message ==================================\n",
      "\n",
      "ORDER\n",
      "================================== Ai Message ==================================\n",
      "\n",
      "The status of order ID **ORD-7311** is as follows:\n",
      "\n",
      "- **Product Ordered:** NanoEdge Flex\n",
      "- **Quantity Ordered:** 3\n",
      "- **Delivery Date:** 2024-10-19\n",
      "\n",
      "If you have any more questions or need further assistance, feel free to ask!\n"
     ]
    }
   ],
   "source": [
    "#Execute a single request\n",
    "messages=[HumanMessage(content=\"What is the status of order ORD-7311?\")]\n",
    "result=router_agent.router_graph.invoke({\"messages\":messages},config)\n",
    "for message in result['messages']:\n",
    "    print(message.pretty_repr())"
   ]
  },
  {
   "cell_type": "code",
   "execution_count": 20,
   "id": "afa6f7ff",
   "metadata": {},
   "outputs": [
    {
     "name": "stdout",
     "output_type": "stream",
     "text": [
      "----------------------------------------\n",
      "USER : How are you doing?\n",
      "\n",
      "AGENT : Hello! I'm here to assist you with any questions about laptop product features or to provide updates on your order status. How can I help you today?\n",
      "----------------------------------------\n",
      "USER : Please show me the details of the order ORD-7311\n",
      "\n",
      "AGENT : Here are the details for order **ORD-7311**:\n",
      "- **Product Ordered**: NanoEdge Flex\n",
      "- **Quantity Ordered**: 3\n",
      "- **Delivery Date**: 2024-10-19\n",
      "\n",
      "If you need any further assistance, feel free to ask!\n",
      "----------------------------------------\n",
      "USER : Can you add one more of that laptop to the order? \n",
      "\n",
      "AGENT : The quantity for order **ORD-7311** has been successfully updated to 4 units of the NanoEdge Flex laptop. If there's anything else you need, please let me know!\n",
      "----------------------------------------\n",
      "USER : Tell me about the features of SpectraBook laptop\n",
      "\n",
      "AGENT : The SpectraBook S is designed for power users and offers the following features:\n",
      "\n",
      "- **Processor**: Intel Core i9\n",
      "- **Memory**: 64GB RAM\n",
      "- **Storage**: 2TB SSD\n",
      "\n",
      "This workstation-class laptop is ideal for intensive tasks such as video editing and 3D rendering.\n",
      "----------------------------------------\n",
      "USER : How much does it cost?\n",
      "\n",
      "AGENT : The SpectraBook S is priced at $2,499.\n",
      "----------------------------------------\n",
      "USER : Bye\n",
      "\n",
      "AGENT : Thank you for visiting. If you have any questions about laptop features or need updates on an order, feel free to reach out anytime. Have a great day!\n"
     ]
    }
   ],
   "source": [
    "#Send a sequence of messages to chatbot and get its response\n",
    "#This simulates the conversation between the user and the Agentic chatbot\n",
    "user_inputs = [\n",
    "    \"How are you doing?\",\n",
    "    \"Please show me the details of the order ORD-7311\",\n",
    "    \"Can you add one more of that laptop to the order? \",\n",
    "    \"Tell me about the features of SpectraBook laptop\",\n",
    "    \"How much does it cost?\",\n",
    "    \"Bye\"\n",
    "]\n",
    "\n",
    "#Create a new thread\n",
    "config = {\"configurable\": {\"thread_id\": str(uuid.uuid4())}}\n",
    "\n",
    "for input in user_inputs:\n",
    "    print(f\"----------------------------------------\\nUSER : {input}\")\n",
    "    #Format the user message\n",
    "    user_message = {\"messages\":[HumanMessage(input)]}\n",
    "    #Get response from the agent\n",
    "    ai_response = router_agent.router_graph.invoke(user_message,config=config)\n",
    "    #Print the response\n",
    "    print(f\"\\nAGENT : {ai_response['messages'][-1].content}\")"
   ]
  }
 ],
 "metadata": {
  "kernelspec": {
   "display_name": ".venv",
   "language": "python",
   "name": "python3"
  },
  "language_info": {
   "codemirror_mode": {
    "name": "ipython",
    "version": 3
   },
   "file_extension": ".py",
   "mimetype": "text/x-python",
   "name": "python",
   "nbconvert_exporter": "python",
   "pygments_lexer": "ipython3",
   "version": "3.11.13"
  }
 },
 "nbformat": 4,
 "nbformat_minor": 5
}
