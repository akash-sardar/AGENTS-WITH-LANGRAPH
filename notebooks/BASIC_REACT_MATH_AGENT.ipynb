{
 "cells": [
  {
   "cell_type": "markdown",
   "id": "1dec5628",
   "metadata": {},
   "source": [
    "# Setup Function Tools for ReAct Agent"
   ]
  },
  {
   "cell_type": "code",
   "execution_count": null,
   "id": "64bbd245",
   "metadata": {},
   "outputs": [],
   "source": [
    "from langchain_core.tools import tool\n",
    "\n",
    "# Tool Annotation identifies a function as a tool automatically\n",
    "@tool\n",
    "def find_sum(x:int, y:int) -> int:\n",
    "    # The docstring comment describes the capabillties of the function\n",
    "    # It is used by the agent to discover the function's inputs, outputs and capabillities\n",
    "    \"\"\"\n",
    "    This function is used to add two numbers and return their sum.\n",
    "    it takes two integers as inputs and return an integer as output.\n",
    "    \"\"\"\n",
    "    return x + y\n",
    "\n",
    "@tool\n",
    "def find_product(x:int, y:int) -> int:\n",
    "    \"\"\"\n",
    "    This function is used to multiply two numbers and return their product.\n",
    "    It takes two integers and returns an integer as an output\n",
    "    \"\"\"\n",
    "    return x * y"
   ]
  },
  {
   "cell_type": "markdown",
   "id": "6a1395eb",
   "metadata": {},
   "source": [
    "# Create a basic ReAct Agent"
   ]
  },
  {
   "cell_type": "markdown",
   "id": "51dcc109",
   "metadata": {},
   "source": [
    "## Initiate the LLM"
   ]
  },
  {
   "cell_type": "code",
   "execution_count": 6,
   "id": "a2894134",
   "metadata": {},
   "outputs": [],
   "source": [
    "from langchain_openai import ChatOpenAI\n",
    "import os\n",
    "from dotenv import load_dotenv\n",
    "OPENAI_API_KEY = os.getenv('OPENAI_API_KEY')\n",
    "\n",
    "\n",
    "#Setup the LLM\n",
    "model = ChatOpenAI(\n",
    "    model=\"gpt-4o\",   # or \"gpt-4.1\", \"gpt-3.5-turbo\", etc.\n",
    "    openai_api_key=OPENAI_API_KEY, \n",
    ")\n"
   ]
  },
  {
   "cell_type": "code",
   "execution_count": 7,
   "id": "9b80f8d8",
   "metadata": {},
   "outputs": [
    {
     "name": "stdout",
     "output_type": "stream",
     "text": [
      "Hello Akash! How can I assist you today?\n"
     ]
    }
   ],
   "source": [
    "# Test the model\n",
    "response = model.invoke(\"Hello, I am Akash\")\n",
    "print(response.content)"
   ]
  },
  {
   "cell_type": "markdown",
   "id": "ad5433dd",
   "metadata": {},
   "source": [
    "## Create the react agent using LangGraph"
   ]
  },
  {
   "cell_type": "code",
   "execution_count": 8,
   "id": "c66616ea",
   "metadata": {},
   "outputs": [],
   "source": [
    "from langgraph.prebuilt import create_react_agent\n",
    "from langchain_core.messages import AIMessage, HumanMessage, SystemMessage\n",
    "\n",
    "# Create list of tools available to the agent\n",
    "agent_tools = [find_sum, find_product]\n",
    "\n",
    "# System Prompt\n",
    "system_prompt = SystemMessage(\n",
    "    \"\"\"\n",
    "    You are a mathematics expert who can solve math problems. Solve the problems provided by the user, by using only the tools available.\n",
    "    Do not solve the problems yourself\n",
    "    \"\"\"\n",
    ")\n",
    "\n",
    "agent_graph = create_react_agent(\n",
    "    model = model,\n",
    "    state_modifier = system_prompt,\n",
    "    tools = agent_tools\n",
    "\n",
    ")"
   ]
  },
  {
   "cell_type": "markdown",
   "id": "30125bd3",
   "metadata": {},
   "source": [
    "## Execute the agent"
   ]
  },
  {
   "cell_type": "code",
   "execution_count": 12,
   "id": "16f2633d",
   "metadata": {},
   "outputs": [
    {
     "name": "stdout",
     "output_type": "stream",
     "text": [
      "Agent returned : The result of \\(2 \\times 3\\) is 6. \n",
      "\n",
      "Step by Step execution : \n",
      "================================ Human Message =================================\n",
      "\n",
      "what is the result of 2 * 3 ?\n",
      "================================== Ai Message ==================================\n",
      "Tool Calls:\n",
      "  find_product (call_QqIiRY4KgGce9xR1YjMyBli2)\n",
      " Call ID: call_QqIiRY4KgGce9xR1YjMyBli2\n",
      "  Args:\n",
      "    x: 2\n",
      "    y: 3\n",
      "================================= Tool Message =================================\n",
      "Name: find_product\n",
      "\n",
      "6\n",
      "================================== Ai Message ==================================\n",
      "\n",
      "The result of \\(2 \\times 3\\) is 6.\n"
     ]
    }
   ],
   "source": [
    "#Example 1\n",
    "inputs = {\"messages\":[(\"user\",\"what is the result of 2 * 3 ?\")]}\n",
    "\n",
    "result = agent_graph.invoke(inputs)\n",
    "\n",
    "#Get the final answer\n",
    "print(f\"Agent returned : {result['messages'][-1].content} \\n\")\n",
    "\n",
    "print(\"Step by Step execution : \")\n",
    "for message in result['messages']:\n",
    "    print(message.pretty_repr())"
   ]
  },
  {
   "cell_type": "code",
   "execution_count": 13,
   "id": "a716dc4e",
   "metadata": {},
   "outputs": [
    {
     "name": "stdout",
     "output_type": "stream",
     "text": [
      "Agent returned : The result of \\(3 \\times 2\\) is 6, and the result of \\(5 + 1\\) is also 6. \n",
      "\n",
      "Step by Step execution : \n",
      "================================ Human Message =================================\n",
      "\n",
      "What is 3 multipled by 2 and 5 + 1 ?\n",
      "================================== Ai Message ==================================\n",
      "Tool Calls:\n",
      "  find_product (call_BTXUAsVbYfb0VfUlxXcfTu4K)\n",
      " Call ID: call_BTXUAsVbYfb0VfUlxXcfTu4K\n",
      "  Args:\n",
      "    x: 3\n",
      "    y: 2\n",
      "  find_sum (call_czA2clPiL87fLHLdLJbWRCkR)\n",
      " Call ID: call_czA2clPiL87fLHLdLJbWRCkR\n",
      "  Args:\n",
      "    x: 5\n",
      "    y: 1\n",
      "================================= Tool Message =================================\n",
      "Name: find_product\n",
      "\n",
      "6\n",
      "================================= Tool Message =================================\n",
      "Name: find_sum\n",
      "\n",
      "6\n",
      "================================== Ai Message ==================================\n",
      "\n",
      "The result of \\(3 \\times 2\\) is 6, and the result of \\(5 + 1\\) is also 6.\n"
     ]
    }
   ],
   "source": [
    "#Example 2\n",
    "inputs = {\"messages\":[(\"user\",\"What is 3 multipled by 2 and 5 + 1 ?\")]}\n",
    "\n",
    "result = agent_graph.invoke(inputs)\n",
    "\n",
    "#Get the final answer\n",
    "print(f\"Agent returned : {result['messages'][-1].content} \\n\")\n",
    "\n",
    "print(\"Step by Step execution : \")\n",
    "for message in result['messages']:\n",
    "    print(message.pretty_repr())"
   ]
  },
  {
   "cell_type": "markdown",
   "id": "fd25f33b",
   "metadata": {},
   "source": [
    "# Debugging the agent"
   ]
  },
  {
   "cell_type": "code",
   "execution_count": 14,
   "id": "c75c9b33",
   "metadata": {},
   "outputs": [
    {
     "name": "stdout",
     "output_type": "stream",
     "text": [
      "\u001b[36;1m\u001b[1;3m[-1:checkpoint]\u001b[0m \u001b[1mState at the end of step -1:\n",
      "\u001b[0m{'messages': []}\n",
      "\u001b[36;1m\u001b[1;3m[0:tasks]\u001b[0m \u001b[1mStarting 1 task for step 0:\n",
      "\u001b[0m- \u001b[32;1m\u001b[1;3m__start__\u001b[0m -> {'messages': [('user', 'what is the sum of 2 and 3 ?')]}\n",
      "\u001b[36;1m\u001b[1;3m[0:writes]\u001b[0m \u001b[1mFinished step 0 with writes to 1 channel:\n",
      "\u001b[0m- \u001b[33;1m\u001b[1;3mmessages\u001b[0m -> [('user', 'what is the sum of 2 and 3 ?')]\n",
      "\u001b[36;1m\u001b[1;3m[0:checkpoint]\u001b[0m \u001b[1mState at the end of step 0:\n",
      "\u001b[0m{'messages': [HumanMessage(content='what is the sum of 2 and 3 ?', additional_kwargs={}, response_metadata={}, id='d47e7ff2-d76b-456f-88d7-c0057410e03a')]}\n",
      "\u001b[36;1m\u001b[1;3m[1:tasks]\u001b[0m \u001b[1mStarting 1 task for step 1:\n",
      "\u001b[0m- \u001b[32;1m\u001b[1;3magent\u001b[0m -> {'is_last_step': False,\n",
      " 'messages': [HumanMessage(content='what is the sum of 2 and 3 ?', additional_kwargs={}, response_metadata={}, id='d47e7ff2-d76b-456f-88d7-c0057410e03a')],\n",
      " 'remaining_steps': 24}\n",
      "\u001b[36;1m\u001b[1;3m[1:writes]\u001b[0m \u001b[1mFinished step 1 with writes to 1 channel:\n",
      "\u001b[0m- \u001b[33;1m\u001b[1;3mmessages\u001b[0m -> [AIMessage(content='', additional_kwargs={'tool_calls': [{'id': 'call_klDbId1KJO6DoQHEUW1RaBTG', 'function': {'arguments': '{\"x\":2,\"y\":3}', 'name': 'find_sum'}, 'type': 'function'}], 'refusal': None}, response_metadata={'token_usage': {'completion_tokens': 18, 'prompt_tokens': 157, 'total_tokens': 175, 'completion_tokens_details': {'accepted_prediction_tokens': 0, 'audio_tokens': 0, 'reasoning_tokens': 0, 'rejected_prediction_tokens': 0}, 'prompt_tokens_details': {'audio_tokens': 0, 'cached_tokens': 0}}, 'model_name': 'gpt-4o-2024-08-06', 'system_fingerprint': 'fp_1827dd0c55', 'finish_reason': 'tool_calls', 'logprobs': None}, id='run--7e8a80c6-d797-4023-83d8-e333e977c70a-0', tool_calls=[{'name': 'find_sum', 'args': {'x': 2, 'y': 3}, 'id': 'call_klDbId1KJO6DoQHEUW1RaBTG', 'type': 'tool_call'}], usage_metadata={'input_tokens': 157, 'output_tokens': 18, 'total_tokens': 175, 'input_token_details': {'audio': 0, 'cache_read': 0}, 'output_token_details': {'audio': 0, 'reasoning': 0}})]\n",
      "\u001b[36;1m\u001b[1;3m[1:checkpoint]\u001b[0m \u001b[1mState at the end of step 1:\n",
      "\u001b[0m{'messages': [HumanMessage(content='what is the sum of 2 and 3 ?', additional_kwargs={}, response_metadata={}, id='d47e7ff2-d76b-456f-88d7-c0057410e03a'),\n",
      "              AIMessage(content='', additional_kwargs={'tool_calls': [{'id': 'call_klDbId1KJO6DoQHEUW1RaBTG', 'function': {'arguments': '{\"x\":2,\"y\":3}', 'name': 'find_sum'}, 'type': 'function'}], 'refusal': None}, response_metadata={'token_usage': {'completion_tokens': 18, 'prompt_tokens': 157, 'total_tokens': 175, 'completion_tokens_details': {'accepted_prediction_tokens': 0, 'audio_tokens': 0, 'reasoning_tokens': 0, 'rejected_prediction_tokens': 0}, 'prompt_tokens_details': {'audio_tokens': 0, 'cached_tokens': 0}}, 'model_name': 'gpt-4o-2024-08-06', 'system_fingerprint': 'fp_1827dd0c55', 'finish_reason': 'tool_calls', 'logprobs': None}, id='run--7e8a80c6-d797-4023-83d8-e333e977c70a-0', tool_calls=[{'name': 'find_sum', 'args': {'x': 2, 'y': 3}, 'id': 'call_klDbId1KJO6DoQHEUW1RaBTG', 'type': 'tool_call'}], usage_metadata={'input_tokens': 157, 'output_tokens': 18, 'total_tokens': 175, 'input_token_details': {'audio': 0, 'cache_read': 0}, 'output_token_details': {'audio': 0, 'reasoning': 0}})]}\n",
      "\u001b[36;1m\u001b[1;3m[2:tasks]\u001b[0m \u001b[1mStarting 1 task for step 2:\n",
      "\u001b[0m- \u001b[32;1m\u001b[1;3mtools\u001b[0m -> {'is_last_step': False,\n",
      " 'messages': [HumanMessage(content='what is the sum of 2 and 3 ?', additional_kwargs={}, response_metadata={}, id='d47e7ff2-d76b-456f-88d7-c0057410e03a'),\n",
      "              AIMessage(content='', additional_kwargs={'tool_calls': [{'id': 'call_klDbId1KJO6DoQHEUW1RaBTG', 'function': {'arguments': '{\"x\":2,\"y\":3}', 'name': 'find_sum'}, 'type': 'function'}], 'refusal': None}, response_metadata={'token_usage': {'completion_tokens': 18, 'prompt_tokens': 157, 'total_tokens': 175, 'completion_tokens_details': {'accepted_prediction_tokens': 0, 'audio_tokens': 0, 'reasoning_tokens': 0, 'rejected_prediction_tokens': 0}, 'prompt_tokens_details': {'audio_tokens': 0, 'cached_tokens': 0}}, 'model_name': 'gpt-4o-2024-08-06', 'system_fingerprint': 'fp_1827dd0c55', 'finish_reason': 'tool_calls', 'logprobs': None}, id='run--7e8a80c6-d797-4023-83d8-e333e977c70a-0', tool_calls=[{'name': 'find_sum', 'args': {'x': 2, 'y': 3}, 'id': 'call_klDbId1KJO6DoQHEUW1RaBTG', 'type': 'tool_call'}], usage_metadata={'input_tokens': 157, 'output_tokens': 18, 'total_tokens': 175, 'input_token_details': {'audio': 0, 'cache_read': 0}, 'output_token_details': {'audio': 0, 'reasoning': 0}})],\n",
      " 'remaining_steps': 23}\n",
      "\u001b[36;1m\u001b[1;3m[2:writes]\u001b[0m \u001b[1mFinished step 2 with writes to 1 channel:\n",
      "\u001b[0m- \u001b[33;1m\u001b[1;3mmessages\u001b[0m -> [ToolMessage(content='5', name='find_sum', tool_call_id='call_klDbId1KJO6DoQHEUW1RaBTG')]\n",
      "\u001b[36;1m\u001b[1;3m[2:checkpoint]\u001b[0m \u001b[1mState at the end of step 2:\n",
      "\u001b[0m{'messages': [HumanMessage(content='what is the sum of 2 and 3 ?', additional_kwargs={}, response_metadata={}, id='d47e7ff2-d76b-456f-88d7-c0057410e03a'),\n",
      "              AIMessage(content='', additional_kwargs={'tool_calls': [{'id': 'call_klDbId1KJO6DoQHEUW1RaBTG', 'function': {'arguments': '{\"x\":2,\"y\":3}', 'name': 'find_sum'}, 'type': 'function'}], 'refusal': None}, response_metadata={'token_usage': {'completion_tokens': 18, 'prompt_tokens': 157, 'total_tokens': 175, 'completion_tokens_details': {'accepted_prediction_tokens': 0, 'audio_tokens': 0, 'reasoning_tokens': 0, 'rejected_prediction_tokens': 0}, 'prompt_tokens_details': {'audio_tokens': 0, 'cached_tokens': 0}}, 'model_name': 'gpt-4o-2024-08-06', 'system_fingerprint': 'fp_1827dd0c55', 'finish_reason': 'tool_calls', 'logprobs': None}, id='run--7e8a80c6-d797-4023-83d8-e333e977c70a-0', tool_calls=[{'name': 'find_sum', 'args': {'x': 2, 'y': 3}, 'id': 'call_klDbId1KJO6DoQHEUW1RaBTG', 'type': 'tool_call'}], usage_metadata={'input_tokens': 157, 'output_tokens': 18, 'total_tokens': 175, 'input_token_details': {'audio': 0, 'cache_read': 0}, 'output_token_details': {'audio': 0, 'reasoning': 0}}),\n",
      "              ToolMessage(content='5', name='find_sum', id='8f4bec21-e95a-465c-800f-e89b6305886a', tool_call_id='call_klDbId1KJO6DoQHEUW1RaBTG')]}\n",
      "\u001b[36;1m\u001b[1;3m[3:tasks]\u001b[0m \u001b[1mStarting 1 task for step 3:\n",
      "\u001b[0m- \u001b[32;1m\u001b[1;3magent\u001b[0m -> {'is_last_step': False,\n",
      " 'messages': [HumanMessage(content='what is the sum of 2 and 3 ?', additional_kwargs={}, response_metadata={}, id='d47e7ff2-d76b-456f-88d7-c0057410e03a'),\n",
      "              AIMessage(content='', additional_kwargs={'tool_calls': [{'id': 'call_klDbId1KJO6DoQHEUW1RaBTG', 'function': {'arguments': '{\"x\":2,\"y\":3}', 'name': 'find_sum'}, 'type': 'function'}], 'refusal': None}, response_metadata={'token_usage': {'completion_tokens': 18, 'prompt_tokens': 157, 'total_tokens': 175, 'completion_tokens_details': {'accepted_prediction_tokens': 0, 'audio_tokens': 0, 'reasoning_tokens': 0, 'rejected_prediction_tokens': 0}, 'prompt_tokens_details': {'audio_tokens': 0, 'cached_tokens': 0}}, 'model_name': 'gpt-4o-2024-08-06', 'system_fingerprint': 'fp_1827dd0c55', 'finish_reason': 'tool_calls', 'logprobs': None}, id='run--7e8a80c6-d797-4023-83d8-e333e977c70a-0', tool_calls=[{'name': 'find_sum', 'args': {'x': 2, 'y': 3}, 'id': 'call_klDbId1KJO6DoQHEUW1RaBTG', 'type': 'tool_call'}], usage_metadata={'input_tokens': 157, 'output_tokens': 18, 'total_tokens': 175, 'input_token_details': {'audio': 0, 'cache_read': 0}, 'output_token_details': {'audio': 0, 'reasoning': 0}}),\n",
      "              ToolMessage(content='5', name='find_sum', id='8f4bec21-e95a-465c-800f-e89b6305886a', tool_call_id='call_klDbId1KJO6DoQHEUW1RaBTG')],\n",
      " 'remaining_steps': 22}\n",
      "\u001b[36;1m\u001b[1;3m[3:writes]\u001b[0m \u001b[1mFinished step 3 with writes to 1 channel:\n",
      "\u001b[0m- \u001b[33;1m\u001b[1;3mmessages\u001b[0m -> [AIMessage(content='The sum of 2 and 3 is 5.', additional_kwargs={'refusal': None}, response_metadata={'token_usage': {'completion_tokens': 13, 'prompt_tokens': 184, 'total_tokens': 197, 'completion_tokens_details': {'accepted_prediction_tokens': 0, 'audio_tokens': 0, 'reasoning_tokens': 0, 'rejected_prediction_tokens': 0}, 'prompt_tokens_details': {'audio_tokens': 0, 'cached_tokens': 0}}, 'model_name': 'gpt-4o-2024-08-06', 'system_fingerprint': 'fp_1827dd0c55', 'finish_reason': 'stop', 'logprobs': None}, id='run--7329c3a3-04c7-46ae-a03f-3d315722193b-0', usage_metadata={'input_tokens': 184, 'output_tokens': 13, 'total_tokens': 197, 'input_token_details': {'audio': 0, 'cache_read': 0}, 'output_token_details': {'audio': 0, 'reasoning': 0}})]\n",
      "\u001b[36;1m\u001b[1;3m[3:checkpoint]\u001b[0m \u001b[1mState at the end of step 3:\n",
      "\u001b[0m{'messages': [HumanMessage(content='what is the sum of 2 and 3 ?', additional_kwargs={}, response_metadata={}, id='d47e7ff2-d76b-456f-88d7-c0057410e03a'),\n",
      "              AIMessage(content='', additional_kwargs={'tool_calls': [{'id': 'call_klDbId1KJO6DoQHEUW1RaBTG', 'function': {'arguments': '{\"x\":2,\"y\":3}', 'name': 'find_sum'}, 'type': 'function'}], 'refusal': None}, response_metadata={'token_usage': {'completion_tokens': 18, 'prompt_tokens': 157, 'total_tokens': 175, 'completion_tokens_details': {'accepted_prediction_tokens': 0, 'audio_tokens': 0, 'reasoning_tokens': 0, 'rejected_prediction_tokens': 0}, 'prompt_tokens_details': {'audio_tokens': 0, 'cached_tokens': 0}}, 'model_name': 'gpt-4o-2024-08-06', 'system_fingerprint': 'fp_1827dd0c55', 'finish_reason': 'tool_calls', 'logprobs': None}, id='run--7e8a80c6-d797-4023-83d8-e333e977c70a-0', tool_calls=[{'name': 'find_sum', 'args': {'x': 2, 'y': 3}, 'id': 'call_klDbId1KJO6DoQHEUW1RaBTG', 'type': 'tool_call'}], usage_metadata={'input_tokens': 157, 'output_tokens': 18, 'total_tokens': 175, 'input_token_details': {'audio': 0, 'cache_read': 0}, 'output_token_details': {'audio': 0, 'reasoning': 0}}),\n",
      "              ToolMessage(content='5', name='find_sum', id='8f4bec21-e95a-465c-800f-e89b6305886a', tool_call_id='call_klDbId1KJO6DoQHEUW1RaBTG'),\n",
      "              AIMessage(content='The sum of 2 and 3 is 5.', additional_kwargs={'refusal': None}, response_metadata={'token_usage': {'completion_tokens': 13, 'prompt_tokens': 184, 'total_tokens': 197, 'completion_tokens_details': {'accepted_prediction_tokens': 0, 'audio_tokens': 0, 'reasoning_tokens': 0, 'rejected_prediction_tokens': 0}, 'prompt_tokens_details': {'audio_tokens': 0, 'cached_tokens': 0}}, 'model_name': 'gpt-4o-2024-08-06', 'system_fingerprint': 'fp_1827dd0c55', 'finish_reason': 'stop', 'logprobs': None}, id='run--7329c3a3-04c7-46ae-a03f-3d315722193b-0', usage_metadata={'input_tokens': 184, 'output_tokens': 13, 'total_tokens': 197, 'input_token_details': {'audio': 0, 'cache_read': 0}, 'output_token_details': {'audio': 0, 'reasoning': 0}})]}\n"
     ]
    }
   ],
   "source": [
    "agent_graph=create_react_agent(\n",
    "    model=model, \n",
    "    state_modifier=system_prompt,\n",
    "    tools=agent_tools,\n",
    "    debug=True)\n",
    "\n",
    "inputs = {\"messages\":[(\"user\",\"what is the sum of 2 and 3 ?\")]}\n",
    "\n",
    "result = agent_graph.invoke(inputs)"
   ]
  },
  {
   "cell_type": "code",
   "execution_count": null,
   "id": "3a938738",
   "metadata": {},
   "outputs": [],
   "source": []
  }
 ],
 "metadata": {
  "kernelspec": {
   "display_name": ".venv",
   "language": "python",
   "name": "python3"
  },
  "language_info": {
   "codemirror_mode": {
    "name": "ipython",
    "version": 3
   },
   "file_extension": ".py",
   "mimetype": "text/x-python",
   "name": "python",
   "nbconvert_exporter": "python",
   "pygments_lexer": "ipython3",
   "version": "3.11.13"
  }
 },
 "nbformat": 4,
 "nbformat_minor": 5
}
