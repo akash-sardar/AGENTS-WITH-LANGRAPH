{
 "cells": [
  {
   "cell_type": "markdown",
   "id": "178b6f5f",
   "metadata": {},
   "source": [
    "### Setup Models"
   ]
  },
  {
   "cell_type": "code",
   "execution_count": 31,
   "id": "d096a60f",
   "metadata": {},
   "outputs": [],
   "source": [
    "# Import libraries\n",
    "\n",
    "from langchain_openai import ChatOpenAI\n",
    "from langchain_openai import OpenAIEmbeddings\n",
    "from langchain_core.tools import tool\n",
    "\n",
    "from langchain.tools.retriever import create_retriever_tool\n",
    "from langchain_chroma import Chroma\n",
    "from langchain_community.document_loaders import PyPDFLoader\n",
    "from langchain_text_splitters import RecursiveCharacterTextSplitter\n",
    "\n",
    "from langgraph.prebuilt import create_react_agent\n",
    "from langgraph.checkpoint.memory import MemorySaver\n",
    "from langchain_core.messages import AIMessage, HumanMessage, SystemMessage\n",
    "\n",
    "import pandas as pd\n",
    "\n",
    "import os\n",
    "import uuid\n",
    "from dotenv import load_dotenv\n",
    "OPENAI_API_KEY = os.getenv('OPENAI_API_KEY')\n"
   ]
  },
  {
   "cell_type": "code",
   "execution_count": 4,
   "id": "60ec7f42",
   "metadata": {},
   "outputs": [],
   "source": [
    "# Start the LLM and embeddings\n",
    "model = ChatOpenAI(\n",
    "    model = \"gpt-4o\",\n",
    "    openai_api_key = OPENAI_API_KEY\n",
    ")\n",
    "\n",
    "embedding = OpenAIEmbeddings(\n",
    "    model = \"text-embedding-3-large\",\n",
    ")"
   ]
  },
  {
   "cell_type": "markdown",
   "id": "da2e5831",
   "metadata": {},
   "source": [
    "### Add Product Pricing Function tool"
   ]
  },
  {
   "cell_type": "markdown",
   "id": "d6ed7701",
   "metadata": {},
   "source": [
    "#### Load pricing file"
   ]
  },
  {
   "cell_type": "code",
   "execution_count": 9,
   "id": "055f8e3f",
   "metadata": {},
   "outputs": [
    {
     "data": {
      "text/html": [
       "<div>\n",
       "<style scoped>\n",
       "    .dataframe tbody tr th:only-of-type {\n",
       "        vertical-align: middle;\n",
       "    }\n",
       "\n",
       "    .dataframe tbody tr th {\n",
       "        vertical-align: top;\n",
       "    }\n",
       "\n",
       "    .dataframe thead th {\n",
       "        text-align: right;\n",
       "    }\n",
       "</style>\n",
       "<table border=\"1\" class=\"dataframe\">\n",
       "  <thead>\n",
       "    <tr style=\"text-align: right;\">\n",
       "      <th></th>\n",
       "      <th>Name</th>\n",
       "      <th>Price</th>\n",
       "      <th>ShippingDays</th>\n",
       "    </tr>\n",
       "  </thead>\n",
       "  <tbody>\n",
       "    <tr>\n",
       "      <th>0</th>\n",
       "      <td>AlphaBook Pro</td>\n",
       "      <td>1499</td>\n",
       "      <td>2</td>\n",
       "    </tr>\n",
       "    <tr>\n",
       "      <th>1</th>\n",
       "      <td>GammaAir X</td>\n",
       "      <td>1399</td>\n",
       "      <td>7</td>\n",
       "    </tr>\n",
       "    <tr>\n",
       "      <th>2</th>\n",
       "      <td>SpectraBook S</td>\n",
       "      <td>2499</td>\n",
       "      <td>7</td>\n",
       "    </tr>\n",
       "    <tr>\n",
       "      <th>3</th>\n",
       "      <td>OmegaPro G17</td>\n",
       "      <td>2199</td>\n",
       "      <td>14</td>\n",
       "    </tr>\n",
       "    <tr>\n",
       "      <th>4</th>\n",
       "      <td>NanoEdge Flex</td>\n",
       "      <td>1699</td>\n",
       "      <td>2</td>\n",
       "    </tr>\n",
       "  </tbody>\n",
       "</table>\n",
       "</div>"
      ],
      "text/plain": [
       "            Name  Price  ShippingDays\n",
       "0  AlphaBook Pro   1499             2\n",
       "1     GammaAir X   1399             7\n",
       "2  SpectraBook S   2499             7\n",
       "3   OmegaPro G17   2199            14\n",
       "4  NanoEdge Flex   1699             2"
      ]
     },
     "execution_count": 9,
     "metadata": {},
     "output_type": "execute_result"
    }
   ],
   "source": [
    "# Load the laptop product pricing CSV into a Pandas Dataframe\n",
    "product_pricing_df = pd.read_csv(\"..//data//Laptop pricing.csv\")\n",
    "product_pricing_df.head()"
   ]
  },
  {
   "cell_type": "markdown",
   "id": "4c2d5366",
   "metadata": {},
   "source": [
    "#### Create the tool to get laptop price"
   ]
  },
  {
   "cell_type": "code",
   "execution_count": 10,
   "id": "de356c40",
   "metadata": {},
   "outputs": [],
   "source": [
    "@tool\n",
    "def get_laptop_price(laptop_name:str) -> int:\n",
    "    \"\"\"\n",
    "    This function returns the price of a laptop, given it's name as input.\n",
    "    It performs a substring match between the input name and the laptop name.\n",
    "    If a match is found, it returns the price of the laptop.\n",
    "    If there is no match found, it returns -1\n",
    "    \"\"\"\n",
    "    # Filter Dataframe for matching names\n",
    "    match_records_df = product_pricing_df[product_pricing_df[\"Name\"].str.contains(\"^\" + laptop_name, case = False)]\n",
    "\n",
    "    if len(match_records_df) == 0:\n",
    "        return -1\n",
    "    else:\n",
    "        return match_records_df[\"Price\"].iloc[0]"
   ]
  },
  {
   "cell_type": "code",
   "execution_count": 11,
   "id": "3d8c8c6b",
   "metadata": {},
   "outputs": [
    {
     "name": "stdout",
     "output_type": "stream",
     "text": [
      "2199\n",
      "-1\n"
     ]
    },
    {
     "name": "stderr",
     "output_type": "stream",
     "text": [
      "C:\\Users\\akash\\AppData\\Local\\Temp\\ipykernel_920\\4103377959.py:1: LangChainDeprecationWarning: The method `BaseTool.__call__` was deprecated in langchain-core 0.1.47 and will be removed in 1.0. Use :meth:`~invoke` instead.\n",
      "  print(get_laptop_price(\"omega\"))\n"
     ]
    }
   ],
   "source": [
    "print(get_laptop_price(\"omega\"))\n",
    "print(get_laptop_price(\"sky\"))"
   ]
  },
  {
   "cell_type": "markdown",
   "id": "404f84c3",
   "metadata": {},
   "source": [
    "### Add Product features retrieval tool"
   ]
  },
  {
   "cell_type": "markdown",
   "id": "024481fe",
   "metadata": {},
   "source": [
    "#### Load, chunk and index the contents of product feature PDF"
   ]
  },
  {
   "cell_type": "code",
   "execution_count": 19,
   "id": "cf948b78",
   "metadata": {},
   "outputs": [],
   "source": [
    "loader = PyPDFLoader(\"..//data//Laptop product descriptions.pdf\")\n",
    "docs = loader.load()"
   ]
  },
  {
   "cell_type": "code",
   "execution_count": 20,
   "id": "b0448084",
   "metadata": {},
   "outputs": [],
   "source": [
    "text_splitter = RecursiveCharacterTextSplitter(chunk_size = 1024, chunk_overlap = 256)\n",
    "splits = text_splitter.split_documents(docs)"
   ]
  },
  {
   "cell_type": "markdown",
   "id": "151a0a58",
   "metadata": {},
   "source": [
    "#### Create a vector store with Chroma"
   ]
  },
  {
   "cell_type": "code",
   "execution_count": 18,
   "id": "1a0114fa",
   "metadata": {},
   "outputs": [
    {
     "name": "stderr",
     "output_type": "stream",
     "text": [
      "Failed to send telemetry event ClientStartEvent: capture() takes 1 positional argument but 3 were given\n",
      "Failed to send telemetry event ClientCreateCollectionEvent: capture() takes 1 positional argument but 3 were given\n"
     ]
    }
   ],
   "source": [
    "prod_feature_store = Chroma.from_documents(\n",
    "    documents = splits,\n",
    "    embedding = embedding\n",
    ")"
   ]
  },
  {
   "cell_type": "markdown",
   "id": "a15c4a54",
   "metadata": {},
   "source": [
    "#### Create the retriever"
   ]
  },
  {
   "cell_type": "code",
   "execution_count": 21,
   "id": "75d98db2",
   "metadata": {},
   "outputs": [],
   "source": [
    "get_product_features = create_retriever_tool(\n",
    "    prod_feature_store.as_retriever(search_kwargs = {\"k\":1}),\n",
    "    name = \"Get_Product_Features\",\n",
    "    description = \"\"\"\n",
    "    This store contains product features about laptops. It lists the available laptops\n",
    "    and their features including CPU, memory, storage, design and advantages\n",
    "    \"\"\"\n",
    ")"
   ]
  },
  {
   "cell_type": "code",
   "execution_count": 22,
   "id": "9d81473b",
   "metadata": {},
   "outputs": [
    {
     "name": "stderr",
     "output_type": "stream",
     "text": [
      "Failed to send telemetry event CollectionQueryEvent: capture() takes 1 positional argument but 3 were given\n",
      "Number of requested results 4 is greater than number of elements in index 2, updating n_results = 2\n"
     ]
    },
    {
     "name": "stdout",
     "output_type": "stream",
     "text": [
      "[Document(metadata={'page': 0, 'source': '..//data//Laptop product descriptions.pdf'}, page_content='Fictional Laptop Descriptions\\nAlphaBook Pro\\nThe AlphaBook Pro is a sleek ultrabook with a 12th Gen Intel i7 processor, 16GB of DDR4 RAM,\\nand a fast 1TB SSD. Ideal for professionals on the go, this laptop offers an impressive blend of\\npower and portability.\\nGammaAir X\\nGammaAir X combines an AMD Ryzen 7 processor with 32GB of DDR4 memory and a 512GB\\nNVMe SSD. Its thin and light form factor makes it perfect for users who need high performance in a\\nportable design.\\nSpectraBook S\\nDesigned for power users, SpectraBook S features an Intel Core i9 processor, 64GB RAM, and a\\nmassive 2TB SSD. This workstation-class laptop is perfect for intensive tasks like video editing and\\n3D rendering.\\nOmegaPro G17\\nOmegaPro G17 is a gaming powerhouse with a Ryzen 9 5900HX CPU, 32GB RAM, and a 1TB\\nSSD. Designed for gamers, it features a 17-inch display with a high refresh rate and powerful\\ngraphics card for the best gaming experience.\\nNanoEdge Flex'), Document(metadata={'page': 0, 'source': '..//data//Laptop product descriptions.pdf'}, page_content=\"OmegaPro G17\\nOmegaPro G17 is a gaming powerhouse with a Ryzen 9 5900HX CPU, 32GB RAM, and a 1TB\\nSSD. Designed for gamers, it features a 17-inch display with a high refresh rate and powerful\\ngraphics card for the best gaming experience.\\nNanoEdge Flex\\nNanoEdge Flex is a versatile 2-in-1 laptop with Apple's M1 Pro chip, 16GB of unified memory, and a\\n512GB SSD. It's perfect for creative professionals who need a device that can transform between a\\nlaptop and a tablet.\")]\n"
     ]
    }
   ],
   "source": [
    "print(prod_feature_store.as_retriever().invoke(\"Tell me about the AlphaBook Pro\") )"
   ]
  },
  {
   "cell_type": "markdown",
   "id": "ec69995c",
   "metadata": {},
   "source": [
    "### Setup a simple Product QnA Chatbot"
   ]
  },
  {
   "cell_type": "markdown",
   "id": "af5fee31",
   "metadata": {},
   "source": [
    "#### Create the system prompt"
   ]
  },
  {
   "cell_type": "code",
   "execution_count": 24,
   "id": "0b795594",
   "metadata": {},
   "outputs": [],
   "source": [
    "system_prompt = SystemMessage(\n",
    "    \"\"\"\n",
    "    You are a professional chatbot that answers questions about laptops sold by your company.\n",
    "    To answer questions about laptops, you will ONLY use the available tools and NOT your own memory.\n",
    "    You will handle small talk and greetings by producing professional responses\n",
    "    \"\"\"\n",
    ")"
   ]
  },
  {
   "cell_type": "markdown",
   "id": "7b778e58",
   "metadata": {},
   "source": [
    "#### Create a list of tools available"
   ]
  },
  {
   "cell_type": "code",
   "execution_count": 25,
   "id": "009a4864",
   "metadata": {},
   "outputs": [],
   "source": [
    "tools = [get_laptop_price, get_product_features]"
   ]
  },
  {
   "cell_type": "markdown",
   "id": "5dfe0593",
   "metadata": {},
   "source": [
    "#### Create memory across questions in conversation"
   ]
  },
  {
   "cell_type": "code",
   "execution_count": 29,
   "id": "8a77558d",
   "metadata": {},
   "outputs": [],
   "source": [
    "checkpointer = MemorySaver()"
   ]
  },
  {
   "cell_type": "markdown",
   "id": "54bce964",
   "metadata": {},
   "source": [
    "#### Create a product QnA Agent. This is actually a graph in LangGraph"
   ]
  },
  {
   "cell_type": "code",
   "execution_count": 30,
   "id": "9f6bc635",
   "metadata": {},
   "outputs": [],
   "source": [
    "product_QnA_Agent = create_react_agent(\n",
    "    model = model, # llm\n",
    "    tools = tools, # tools\n",
    "    state_modifier = system_prompt, # System Prompt\n",
    "    debug = False,\n",
    "    checkpointer = checkpointer # For conversation memory\n",
    ")"
   ]
  },
  {
   "cell_type": "markdown",
   "id": "11b493f2",
   "metadata": {},
   "source": [
    "### Setup the chatbot"
   ]
  },
  {
   "cell_type": "code",
   "execution_count": 33,
   "id": "aaa7d97c",
   "metadata": {},
   "outputs": [
    {
     "name": "stdout",
     "output_type": "stream",
     "text": [
      "================================\u001b[1m Human Message \u001b[0m=================================\n",
      "\n",
      "What are the features and pricing for GammaAir?\n",
      "==================================\u001b[1m Ai Message \u001b[0m==================================\n",
      "Tool Calls:\n",
      "  Get_Product_Features (call_A2EzZD9au8kMTlhJdM4pDVeE)\n",
      " Call ID: call_A2EzZD9au8kMTlhJdM4pDVeE\n",
      "  Args:\n",
      "    query: GammaAir\n",
      "  get_laptop_price (call_0pggK8r0eOcKEXnsxEwM1FyP)\n",
      " Call ID: call_0pggK8r0eOcKEXnsxEwM1FyP\n",
      "  Args:\n",
      "    laptop_name: GammaAir\n",
      "=================================\u001b[1m Tool Message \u001b[0m=================================\n",
      "Name: get_laptop_price\n",
      "\n",
      "1399\n",
      "==================================\u001b[1m Ai Message \u001b[0m==================================\n",
      "\n",
      "The GammaAir X laptop features an AMD Ryzen 7 processor, 32GB of DDR4 memory, and a 512GB NVMe SSD. It is designed with a thin and light form factor, making it an excellent choice for users who need high performance in a portable design.\n",
      "\n",
      "The price for the GammaAir X is $1,399.\n"
     ]
    }
   ],
   "source": [
    "#Setup chatbot\n",
    "\n",
    "#To maintain memory, each request should be in the context of a thread.\n",
    "#Each user conversation will use a separate thread ID\n",
    "config = {\"configurable\": {\"thread_id\": uuid.uuid4()}}\n",
    "\n",
    "#Test the agent with an input\n",
    "inputs = {\"messages\":[\n",
    "                HumanMessage(\"What are the features and pricing for GammaAir?\")\n",
    "            ]}\n",
    "\n",
    "#Use streaming to print responses as the agent  does the work.\n",
    "#This is an alternate way to stream agent responses without waiting for the agent to finish\n",
    "for stream in product_QnA_Agent.stream(inputs, config, stream_mode=\"values\"):\n",
    "    message=stream[\"messages\"][-1]\n",
    "    if isinstance(message, tuple):\n",
    "        print(message)\n",
    "    else:\n",
    "        message.pretty_print()"
   ]
  },
  {
   "cell_type": "markdown",
   "id": "504a8276",
   "metadata": {},
   "source": [
    "### Execute in chat format"
   ]
  },
  {
   "cell_type": "code",
   "execution_count": 35,
   "id": "5ea00e9e",
   "metadata": {},
   "outputs": [
    {
     "name": "stdout",
     "output_type": "stream",
     "text": [
      "----------------------------------------\n",
      "USER : Hello\n",
      "AGENT : Hello! How can I assist you with our laptops today?\n",
      "----------------------------------------\n",
      "USER : I am looking to buy a laptop\n",
      "AGENT : Great! I can help you with that. Do you have any specific features or requirements in mind for your new laptop?\n",
      "----------------------------------------\n",
      "USER : Give me a list of available laptop names\n",
      "AGENT : Here are some of the laptops we currently have available:\n",
      "\n",
      "1. **AlphaBook Pro**: A sleek ultrabook with a 12th Gen Intel i7 processor, 16GB of DDR4 RAM, and a fast 1TB SSD.\n",
      "\n",
      "2. **GammaAir X**: Combines an AMD Ryzen 7 processor with 32GB of DDR4 memory and a 512GB NVMe SSD.\n",
      "\n",
      "3. **SpectraBook S**: Features an Intel Core i9 processor, 64GB RAM, and a massive 2TB SSD, ideal for power users and intensive tasks.\n",
      "\n",
      "4. **OmegaPro G17**: A gaming powerhouse with a Ryzen 9 5900HX CPU, 32GB RAM, and a 1TB SSD, perfect for gamers.\n",
      "\n",
      "5. **NanoEdge Flex**: (Details not provided, but it's part of our lineup).\n",
      "\n",
      "Let me know if you need more information on any of these models or their pricing!\n",
      "----------------------------------------\n",
      "USER : Tell me about the features of  SpectraBook\n",
      "AGENT : The **SpectraBook S** is designed for power users and equipped with the following features:\n",
      "\n",
      "- **Processor**: Intel Core i9\n",
      "- **Memory**: 64GB RAM\n",
      "- **Storage**: Massive 2TB SSD\n",
      "\n",
      "This workstation-class laptop is perfect for intensive tasks such as video editing and 3D rendering, offering top-notch performance for demanding applications.\n",
      "\n",
      "If you have any more questions about this model or need information on pricing, feel free to ask!\n",
      "----------------------------------------\n",
      "USER : How much does it cost?\n",
      "AGENT : The **SpectraBook S** is priced at $2,499. If you have any further questions or need assistance with anything else, feel free to let me know!\n",
      "----------------------------------------\n",
      "USER : Give me similar information about OmegaPro\n",
      "AGENT : The **OmegaPro G17** is a gaming powerhouse with the following features:\n",
      "\n",
      "- **Processor**: Ryzen 9 5900HX CPU\n",
      "- **Memory**: 32GB RAM\n",
      "- **Storage**: 1TB SSD\n",
      "- **Display**: 17-inch display with a high refresh rate\n",
      "- **Graphics**: Powerful graphics card for the best gaming experience\n",
      "\n",
      "This model is designed specifically for gamers who want top performance and an immersive gaming experience.\n",
      "\n",
      "The **OmegaPro G17** is priced at $2,199. If you need more details or have any other questions, feel free to ask!\n",
      "----------------------------------------\n",
      "USER : What info do you have on AcmeRight ?\n",
      "AGENT : It seems I don't have any information on a laptop named \"AcmeRight.\" If you have any other questions or need details on a different model, feel free to ask!\n",
      "----------------------------------------\n",
      "USER : Thanks for the help\n",
      "AGENT : You're welcome! If you have any more questions in the future or need further assistance, don't hesitate to reach out. Have a great day!\n"
     ]
    }
   ],
   "source": [
    "#Send a sequence of messages to chatbot and get its response\n",
    "#This simulates the conversation between the user and the Agentic chatbot\n",
    "user_inputs = [\n",
    "    \"Hello\",\n",
    "    \"I am looking to buy a laptop\",\n",
    "    \"Give me a list of available laptop names\",\n",
    "    \"Tell me about the features of  SpectraBook\",\n",
    "    \"How much does it cost?\",\n",
    "    \"Give me similar information about OmegaPro\",\n",
    "    \"What info do you have on AcmeRight ?\",\n",
    "    \"Thanks for the help\"\n",
    "]\n",
    "\n",
    "#Create a new thread\n",
    "config = {\"configurable\": {\"thread_id\": str(uuid.uuid4())}}\n",
    "\n",
    "for input in user_inputs:\n",
    "    print(f\"----------------------------------------\\nUSER : {input}\")\n",
    "    #Format the user message\n",
    "    user_message = {\"messages\":[HumanMessage(input)]}\n",
    "    #Get response from the agent\n",
    "    ai_response = product_QnA_Agent.invoke(user_message,config=config)\n",
    "    #Print the response\n",
    "    print(f\"AGENT : {ai_response['messages'][-1].content}\")"
   ]
  },
  {
   "cell_type": "code",
   "execution_count": 36,
   "id": "cf2e14e6",
   "metadata": {},
   "outputs": [
    {
     "name": "stdout",
     "output_type": "stream",
     "text": [
      "\n",
      "USER 1: The SpectraBook S is designed for power users and is equipped with the following features:\n",
      "\n",
      "- **Processor:** Intel Core i9\n",
      "- **Memory:** 64GB RAM\n",
      "- **Storage:** Massive 2TB SSD\n",
      "\n",
      "This workstation-class laptop is perfect for intensive tasks like video editing and 3D rendering, making it an excellent choice for users requiring significant computational power.\n",
      "\n",
      "USER 2: The GammaAir X is equipped with an AMD Ryzen 7 processor, 32GB of DDR4 memory, and a 512GB NVMe SSD. It features a thin and light design, making it ideal for users who require high performance in a portable package.\n",
      "\n",
      "USER 1: The price of the SpectraBook S is $2,499.\n",
      "\n",
      "USER 2: The price of the GammaAir X is $1,399.\n"
     ]
    }
   ],
   "source": [
    "#conversation memory by user\n",
    "def execute_prompt(user, config, prompt):\n",
    "    inputs = {\"messages\":[(\"user\",prompt)]}\n",
    "    ai_response = product_QnA_Agent.invoke(inputs,config=config)\n",
    "    print(f\"\\n{user}: {ai_response['messages'][-1].content}\")\n",
    "\n",
    "#Create different session threads for 2 users\n",
    "config_1 = {\"configurable\": {\"thread_id\": str(uuid.uuid4())}}\n",
    "config_2 = {\"configurable\": {\"thread_id\": str(uuid.uuid4())}}\n",
    "\n",
    "#Test both threads\n",
    "execute_prompt(\"USER 1\", config_1, \"Tell me about the features of  SpectraBook\")\n",
    "execute_prompt(\"USER 2\", config_2, \"Tell me about the features of  GammaAir\")\n",
    "execute_prompt(\"USER 1\", config_1, \"What is its price ?\")\n",
    "execute_prompt(\"USER 2\", config_2, \"What is its price ?\")"
   ]
  }
 ],
 "metadata": {
  "kernelspec": {
   "display_name": ".venv",
   "language": "python",
   "name": "python3"
  },
  "language_info": {
   "codemirror_mode": {
    "name": "ipython",
    "version": 3
   },
   "file_extension": ".py",
   "mimetype": "text/x-python",
   "name": "python",
   "nbconvert_exporter": "python",
   "pygments_lexer": "ipython3",
   "version": "3.11.13"
  }
 },
 "nbformat": 4,
 "nbformat_minor": 5
}
